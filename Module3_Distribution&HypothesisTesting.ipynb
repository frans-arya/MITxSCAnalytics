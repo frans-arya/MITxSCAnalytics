{
 "cells": [
  {
   "cell_type": "code",
   "execution_count": 1,
   "metadata": {},
   "outputs": [],
   "source": [
    "from scipy import stats"
   ]
  },
  {
   "cell_type": "code",
   "execution_count": 3,
   "metadata": {},
   "outputs": [
    {
     "data": {
      "text/plain": [
       "0.1625000000000001"
      ]
     },
     "execution_count": 3,
     "metadata": {},
     "output_type": "execute_result"
    }
   ],
   "source": [
    "stats.uniform(7,15-7).cdf(9.5)-stats.uniform(7,15-7).cdf(8.2)"
   ]
  },
  {
   "cell_type": "code",
   "execution_count": 5,
   "metadata": {},
   "outputs": [
    {
     "data": {
      "text/plain": [
       "0.8833333333333332"
      ]
     },
     "execution_count": 5,
     "metadata": {},
     "output_type": "execute_result"
    }
   ],
   "source": [
    "c = (11-6)/(15-6)\n",
    "scale = 15-6\n",
    "stats.triang(c,6,scale).cdf(14) - stats.triang(c,6,scale).cdf(8) "
   ]
  },
  {
   "cell_type": "code",
   "execution_count": 7,
   "metadata": {},
   "outputs": [
    {
     "data": {
      "text/plain": [
       "0.725664395523142"
      ]
     },
     "execution_count": 7,
     "metadata": {},
     "output_type": "execute_result"
    }
   ],
   "source": [
    "stats.norm(13,2.3).cdf(15)-stats.norm(13,2.3).cdf(9.8)"
   ]
  },
  {
   "cell_type": "code",
   "execution_count": 12,
   "metadata": {},
   "outputs": [
    {
     "data": {
      "text/plain": [
       "8.492082835557875"
      ]
     },
     "execution_count": 12,
     "metadata": {},
     "output_type": "execute_result"
    }
   ],
   "source": [
    "stats.norm(13,2.3).ppf(0.025)"
   ]
  },
  {
   "cell_type": "code",
   "execution_count": 14,
   "metadata": {},
   "outputs": [],
   "source": [
    "#Conduct a t-test to see if the mean of this data is above 27. Use  α=.05 .\n",
    "# 31,24,27,27,31,26,30,31\n",
    "\n",
    "import pandas as pd\n",
    "sample = pd.Series([31,24,27,27,31,26,30,31])"
   ]
  },
  {
   "cell_type": "code",
   "execution_count": 15,
   "metadata": {},
   "outputs": [
    {
     "data": {
      "text/plain": [
       "28.375"
      ]
     },
     "execution_count": 15,
     "metadata": {},
     "output_type": "execute_result"
    }
   ],
   "source": [
    "sample.mean()"
   ]
  },
  {
   "cell_type": "code",
   "execution_count": 30,
   "metadata": {},
   "outputs": [
    {
     "name": "stdout",
     "output_type": "stream",
     "text": [
      "1.894578605061305\n"
     ]
    }
   ],
   "source": [
    "degree_of_freedom = len(sample) - 1\n",
    "\n",
    "z = stats.t(degree_of_freedom).ppf(0.95)\n",
    "print(z)"
   ]
  },
  {
   "cell_type": "code",
   "execution_count": 27,
   "metadata": {},
   "outputs": [
    {
     "name": "stdout",
     "output_type": "stream",
     "text": [
      "Ttest_1sampResult(statistic=1.4286230627501737, pvalue=0.19617645073072726)\n"
     ]
    }
   ],
   "source": [
    "#by default the ttest using 1 sample in python is always 2 tailed\n",
    "z_val, pval_2_tail = stats.ttest_1samp(sample, 27)\n",
    "print(stats.ttest_1samp(sample,27))"
   ]
  },
  {
   "cell_type": "code",
   "execution_count": 29,
   "metadata": {},
   "outputs": [
    {
     "name": "stdout",
     "output_type": "stream",
     "text": [
      "0.09808822536536363\n"
     ]
    }
   ],
   "source": [
    "#What is the p-value of your t-test?\n",
    "\n",
    "pval_1_tail = pval_2_tail / 2\n",
    "print(pval_1_tail)"
   ]
  },
  {
   "cell_type": "code",
   "execution_count": 32,
   "metadata": {},
   "outputs": [
    {
     "data": {
      "text/plain": [
       "False"
      ]
     },
     "execution_count": 32,
     "metadata": {},
     "output_type": "execute_result"
    }
   ],
   "source": [
    "#Can you say that the mean of the data is greater than 27?\n",
    "z_val > z \n",
    "#z_val is less than z therefore we can not say that "
   ]
  },
  {
   "cell_type": "code",
   "execution_count": 43,
   "metadata": {},
   "outputs": [
    {
     "name": "stdout",
     "output_type": "stream",
     "text": [
      "Power_divergenceResult(statistic=4.24, pvalue=0.23668751492438694)\n"
     ]
    }
   ],
   "source": [
    "import numpy as np\n",
    "#You repeat the MoonDoe survey on 100 new customers. Your new data is below.\n",
    "#               Testvalue\t \tExpected Value\n",
    "#Blue\t\t\t\t32\t\t\t\t25\n",
    "#Red\t\t\t\t27\t\t\t\t25\n",
    "#Green\t\t\t\t18\t\t\t\t25\n",
    "#Yellow\t\t\t\t23\t\t\t\t25\n",
    "\n",
    "testval = np.array([32,27,18,23])\n",
    "expval = np.array([25,25,25,25])\n",
    "\n",
    "#Run the chi-square test. What is the p-value of your ChiSq Test?\n",
    "test_stat, pval = stats.chisquare(testval,expval)\n",
    "print(stats.chisquare(testval,expval))"
   ]
  },
  {
   "cell_type": "code",
   "execution_count": 45,
   "metadata": {},
   "outputs": [
    {
     "name": "stdout",
     "output_type": "stream",
     "text": [
      "7.814727903251179\n"
     ]
    }
   ],
   "source": [
    "#Using  α=.05  can you say that your customers are significantly different than the expected distribution?\n",
    "df = len(testval) - 1\n",
    "critical_val = stats.chi2.ppf(0.95,df)\n",
    "print(critical_val)"
   ]
  },
  {
   "cell_type": "code",
   "execution_count": 46,
   "metadata": {},
   "outputs": [],
   "source": [
    "rating = pd.Series([0.0404,0.0445,0.0429,0.0449,0.0434,0.0438,0.0402,0.0407,0.0448,0.041])"
   ]
  },
  {
   "cell_type": "code",
   "execution_count": 112,
   "metadata": {},
   "outputs": [],
   "source": [
    "dof = len(rating) - 1\n",
    "loc = rating.mean()\n",
    "#because it is a t distribution the numerator in a z value formula must be divided with the square root of the no. of. observation\n",
    "scale = rating.std() / np.sqrt(len(rating))\n",
    "dist = stats.t(dof, loc, scale)"
   ]
  },
  {
   "cell_type": "code",
   "execution_count": 114,
   "metadata": {},
   "outputs": [
    {
     "data": {
      "text/plain": [
       "0.04402239551103818"
      ]
     },
     "execution_count": 114,
     "metadata": {},
     "output_type": "execute_result"
    }
   ],
   "source": [
    "dist.ppf(0.975)"
   ]
  },
  {
   "cell_type": "code",
   "execution_count": 115,
   "metadata": {},
   "outputs": [
    {
     "data": {
      "text/plain": [
       "0.04129760448896181"
      ]
     },
     "execution_count": 115,
     "metadata": {},
     "output_type": "execute_result"
    }
   ],
   "source": [
    "dist.ppf(0.025)"
   ]
  },
  {
   "cell_type": "code",
   "execution_count": 116,
   "metadata": {},
   "outputs": [],
   "source": [
    "rating_stat, rating_pval2tail = stats.ttest_1samp(rating, 0.043)"
   ]
  },
  {
   "cell_type": "code",
   "execution_count": 120,
   "metadata": {},
   "outputs": [
    {
     "name": "stdout",
     "output_type": "stream",
     "text": [
      "0.7069119454465335\n"
     ]
    }
   ],
   "source": [
    "rating_pval1tail = rating_pval2tail / 2\n",
    "print(1-rating_pval1tail)"
   ]
  },
  {
   "cell_type": "code",
   "execution_count": 100,
   "metadata": {},
   "outputs": [
    {
     "data": {
      "text/plain": [
       "1.8331129326536335"
      ]
     },
     "execution_count": 100,
     "metadata": {},
     "output_type": "execute_result"
    }
   ],
   "source": [
    "stats.t(dof).ppf(0.95)"
   ]
  },
  {
   "cell_type": "code",
   "execution_count": 118,
   "metadata": {},
   "outputs": [
    {
     "data": {
      "text/plain": [
       "-0.5645448983796457"
      ]
     },
     "execution_count": 118,
     "metadata": {},
     "output_type": "execute_result"
    }
   ],
   "source": [
    "rating_stat"
   ]
  },
  {
   "cell_type": "code",
   "execution_count": 131,
   "metadata": {},
   "outputs": [
    {
     "data": {
      "text/plain": [
       "1.959963984540054"
      ]
     },
     "execution_count": 131,
     "metadata": {},
     "output_type": "execute_result"
    }
   ],
   "source": [
    "#Lily ambulance service, which is based in Boston, attends to emergency medical calls in the city. \n",
    "#They have a 24-hour call center which receives all calls, takes notes about location and patient’s \n",
    "#status and assigns the nearest ambulance vehicle to the call. The ambulance vehicle gets a call \n",
    "#notifying them of the same. They dispatch to the location after receiving the call and help the \n",
    "#patient. The wait time, which is the average time from when the call is received to when the ambulance \n",
    "#arrives at the scene, is 17.5 minutes.\n",
    "\n",
    "#Lily Ambulance Services realized that technology intervention may reduce their operating cost and \n",
    "#hence introduced an app where people can request for an ambulance using an app (by putting in some \n",
    "#of the important information like location and patient condition). Ambulance vehicles directly receive \n",
    "#a notification, reducing the need for a call center. Lily Ambulance Services decided to keep the call \n",
    "#center while testing the app functionality.\n",
    "\n",
    "#You have been hired to evaluate if the app had any impact on service.\n",
    "\n",
    "#By studying a sample of the data with 150 app requested ambulances, it was determined that the wait \n",
    "#times have a mean of 16 minutes with a standard deviation of 6 minutes.\n",
    "\n",
    "#You decide to conduct a hypothesis test to evaluate if the wait times using the app based requests \n",
    "#are equal to that of the regular call based requests. You assume a significance level of 5%:\n",
    "\n",
    "#H0 : Average wait times in app requests are equal to call based requests.\n",
    "\n",
    "#H1 : Average wait times in app requests are not equal to call based requests.\n",
    "\n",
    "#What is the corresponding critical value (the z-value) of the app based requests?\n",
    "stats.norm(0,1).ppf(0.975) "
   ]
  },
  {
   "cell_type": "code",
   "execution_count": 139,
   "metadata": {},
   "outputs": [
    {
     "data": {
      "text/plain": [
       "16.96018233527106"
      ]
     },
     "execution_count": 139,
     "metadata": {},
     "output_type": "execute_result"
    }
   ],
   "source": [
    "#What is the upper limit of this confidence interval?\n",
    "\n",
    "loc = 16\n",
    "#in scale we use stddev / squareroot of observation because this is a sample on n observations\n",
    "scale = 6 / np.sqrt(150)\n",
    "stats.norm(loc,scale).ppf(0.975)\n"
   ]
  },
  {
   "cell_type": "code",
   "execution_count": 140,
   "metadata": {},
   "outputs": [
    {
     "data": {
      "text/plain": [
       "15.039817664728938"
      ]
     },
     "execution_count": 140,
     "metadata": {},
     "output_type": "execute_result"
    }
   ],
   "source": [
    "#What is the lower limit of this confidence interval?\n",
    "stats.norm(loc,scale).ppf(0.025)"
   ]
  },
  {
   "cell_type": "code",
   "execution_count": 144,
   "metadata": {},
   "outputs": [
    {
     "data": {
      "text/plain": [
       "True"
      ]
     },
     "execution_count": 144,
     "metadata": {},
     "output_type": "execute_result"
    }
   ],
   "source": [
    "#You have already calculated the confidence interval for the mean at a 95% confidence level in part 3. \n",
    "#Your H0 states that population mean and sample mean are equal. To see if you can reject this null \n",
    "#hypothesis all is left to do is check, if the population mean is within this confidence interval \n",
    "#of the sample mean. If the population mean is within the confidence interval you cannot reject H0. \n",
    "#In this case, because the population mean (17.5) is outside the confidence interval of (15.04, 16.96)\n",
    "\n",
    "17.5 > 16.96"
   ]
  },
  {
   "cell_type": "code",
   "execution_count": 145,
   "metadata": {},
   "outputs": [],
   "source": [
    "#You sell 5 types of TVs at your electronics store. Your store is a small part of a larger chain. \n",
    "#Over the past few months, corporate has developed a distribution of customer preferences for these \n",
    "#TV types. You decided to interview 185 local customers because you don't think that corporate \n",
    "#expectations will hold at your particular store. Conduct a Chi-Square test to see if your customers \n",
    "#are in a different distribution than the one corporate expects them to be in. \n",
    "#Your survey results and expected values are below.\n",
    "\n",
    "           #Testvalue\tExpected Value\n",
    "#Product1\t\t18\t\t\t  28\n",
    "#Product2\t\t39\t\t\t  47\n",
    "#Product3\t\t56\t\t\t  48\n",
    "#Product4\t\t38\t\t\t  35\n",
    "#Product5\t\t34\t\t\t  27"
   ]
  },
  {
   "cell_type": "code",
   "execution_count": 146,
   "metadata": {},
   "outputs": [],
   "source": [
    "testval = pd.Series([18,39,56,38,34])\n",
    "expval = pd.Series([28,47,48,35,27])"
   ]
  },
  {
   "cell_type": "code",
   "execution_count": 147,
   "metadata": {},
   "outputs": [
    {
     "name": "stdout",
     "output_type": "stream",
     "text": [
      "Power_divergenceResult(statistic=8.33842170437915, pvalue=0.0799390495646549)\n"
     ]
    }
   ],
   "source": [
    "#What is the p-value of your ChiSq Test?\n",
    "test_stat, pval = stats.chisquare(testval,expval)\n",
    "print(stats.chisquare(testval,expval))"
   ]
  },
  {
   "cell_type": "code",
   "execution_count": 148,
   "metadata": {},
   "outputs": [
    {
     "data": {
      "text/plain": [
       "9.487729036781154"
      ]
     },
     "execution_count": 148,
     "metadata": {},
     "output_type": "execute_result"
    }
   ],
   "source": [
    "#Using  α=.05  can you say that your customers are significantly different from corporate's expected distribution?\n",
    "\n",
    "dof = len(expval)-1\n",
    "crit_stat = stats.chi2.ppf(0.95,dof)\n",
    "print(crit_stat)\n",
    "#Since your p value is greater than your alpha value of .05, and hence correspondingly test_stat < critical stat\n",
    "#you can not say that the distributions are significantly different."
   ]
  },
  {
   "cell_type": "code",
   "execution_count": null,
   "metadata": {},
   "outputs": [],
   "source": []
  }
 ],
 "metadata": {
  "kernelspec": {
   "display_name": "Python 3",
   "language": "python",
   "name": "python3"
  },
  "language_info": {
   "codemirror_mode": {
    "name": "ipython",
    "version": 3
   },
   "file_extension": ".py",
   "mimetype": "text/x-python",
   "name": "python",
   "nbconvert_exporter": "python",
   "pygments_lexer": "ipython3",
   "version": "3.7.0"
  }
 },
 "nbformat": 4,
 "nbformat_minor": 2
}
