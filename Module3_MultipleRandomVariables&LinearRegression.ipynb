{
 "cells": [
  {
   "cell_type": "code",
   "execution_count": 11,
   "metadata": {},
   "outputs": [],
   "source": [
    "import numpy as np\n",
    "import pandas as pd\n",
    "from scipy import stats\n",
    "import matplotlib.pyplot as plt"
   ]
  },
  {
   "cell_type": "code",
   "execution_count": 5,
   "metadata": {},
   "outputs": [],
   "source": [
    "#Create the probability tables of Zippy Bright Sales for every combination of sales between:\n",
    "\n",
    "#XP219 and Whitener\n",
    "    \n",
    "#Floss and Whitener\n",
    "\n",
    "df = pd.read_csv(\"ZippyBrightSales.csv\", header = 1, usecols = [0,1,2,3])"
   ]
  },
  {
   "cell_type": "code",
   "execution_count": 23,
   "metadata": {},
   "outputs": [],
   "source": [
    "df = df.dropna(how = \"all\")"
   ]
  },
  {
   "cell_type": "code",
   "execution_count": 111,
   "metadata": {},
   "outputs": [
    {
     "data": {
      "text/html": [
       "<div>\n",
       "<style scoped>\n",
       "    .dataframe tbody tr th:only-of-type {\n",
       "        vertical-align: middle;\n",
       "    }\n",
       "\n",
       "    .dataframe tbody tr th {\n",
       "        vertical-align: top;\n",
       "    }\n",
       "\n",
       "    .dataframe thead th {\n",
       "        text-align: right;\n",
       "    }\n",
       "</style>\n",
       "<table border=\"1\" class=\"dataframe\">\n",
       "  <thead>\n",
       "    <tr style=\"text-align: right;\">\n",
       "      <th></th>\n",
       "      <th>Week #</th>\n",
       "      <th>XP219</th>\n",
       "      <th>Floss</th>\n",
       "      <th>Whitener</th>\n",
       "    </tr>\n",
       "  </thead>\n",
       "  <tbody>\n",
       "    <tr>\n",
       "      <th>0</th>\n",
       "      <td>1.0</td>\n",
       "      <td>1.0</td>\n",
       "      <td>1.0</td>\n",
       "      <td>4.0</td>\n",
       "    </tr>\n",
       "    <tr>\n",
       "      <th>1</th>\n",
       "      <td>2.0</td>\n",
       "      <td>5.0</td>\n",
       "      <td>5.0</td>\n",
       "      <td>5.0</td>\n",
       "    </tr>\n",
       "    <tr>\n",
       "      <th>2</th>\n",
       "      <td>3.0</td>\n",
       "      <td>3.0</td>\n",
       "      <td>3.0</td>\n",
       "      <td>3.0</td>\n",
       "    </tr>\n",
       "    <tr>\n",
       "      <th>3</th>\n",
       "      <td>4.0</td>\n",
       "      <td>2.0</td>\n",
       "      <td>2.0</td>\n",
       "      <td>3.0</td>\n",
       "    </tr>\n",
       "    <tr>\n",
       "      <th>4</th>\n",
       "      <td>5.0</td>\n",
       "      <td>3.0</td>\n",
       "      <td>3.0</td>\n",
       "      <td>2.0</td>\n",
       "    </tr>\n",
       "  </tbody>\n",
       "</table>\n",
       "</div>"
      ],
      "text/plain": [
       "   Week #  XP219  Floss  Whitener\n",
       "0     1.0    1.0    1.0       4.0\n",
       "1     2.0    5.0    5.0       5.0\n",
       "2     3.0    3.0    3.0       3.0\n",
       "3     4.0    2.0    2.0       3.0\n",
       "4     5.0    3.0    3.0       2.0"
      ]
     },
     "execution_count": 111,
     "metadata": {},
     "output_type": "execute_result"
    }
   ],
   "source": [
    "df.head()"
   ]
  },
  {
   "cell_type": "code",
   "execution_count": 143,
   "metadata": {},
   "outputs": [],
   "source": [
    "#size() return the number of rows in each group, reset_index repeat the row labels, rename change the column 0 which is the size()\n",
    "#into 'Count'\n",
    "xpwhitener = df.groupby(['XP219','Whitener']).size().reset_index().rename(columns={0:'Count'})\n",
    "flosswhitener = df.groupby(['Floss','Whitener']).size().reset_index().rename(columns={0:'Count'})\n"
   ]
  },
  {
   "cell_type": "code",
   "execution_count": 144,
   "metadata": {},
   "outputs": [
    {
     "data": {
      "text/html": [
       "<div>\n",
       "<style scoped>\n",
       "    .dataframe tbody tr th:only-of-type {\n",
       "        vertical-align: middle;\n",
       "    }\n",
       "\n",
       "    .dataframe tbody tr th {\n",
       "        vertical-align: top;\n",
       "    }\n",
       "\n",
       "    .dataframe thead th {\n",
       "        text-align: right;\n",
       "    }\n",
       "</style>\n",
       "<table border=\"1\" class=\"dataframe\">\n",
       "  <thead>\n",
       "    <tr style=\"text-align: right;\">\n",
       "      <th></th>\n",
       "      <th>XP219</th>\n",
       "      <th>Whitener</th>\n",
       "      <th>Count</th>\n",
       "    </tr>\n",
       "  </thead>\n",
       "  <tbody>\n",
       "    <tr>\n",
       "      <th>0</th>\n",
       "      <td>1.0</td>\n",
       "      <td>4.0</td>\n",
       "      <td>1</td>\n",
       "    </tr>\n",
       "    <tr>\n",
       "      <th>1</th>\n",
       "      <td>1.0</td>\n",
       "      <td>5.0</td>\n",
       "      <td>6</td>\n",
       "    </tr>\n",
       "    <tr>\n",
       "      <th>2</th>\n",
       "      <td>2.0</td>\n",
       "      <td>3.0</td>\n",
       "      <td>4</td>\n",
       "    </tr>\n",
       "    <tr>\n",
       "      <th>3</th>\n",
       "      <td>2.0</td>\n",
       "      <td>5.0</td>\n",
       "      <td>7</td>\n",
       "    </tr>\n",
       "    <tr>\n",
       "      <th>4</th>\n",
       "      <td>3.0</td>\n",
       "      <td>1.0</td>\n",
       "      <td>2</td>\n",
       "    </tr>\n",
       "    <tr>\n",
       "      <th>5</th>\n",
       "      <td>3.0</td>\n",
       "      <td>2.0</td>\n",
       "      <td>2</td>\n",
       "    </tr>\n",
       "    <tr>\n",
       "      <th>6</th>\n",
       "      <td>3.0</td>\n",
       "      <td>3.0</td>\n",
       "      <td>1</td>\n",
       "    </tr>\n",
       "    <tr>\n",
       "      <th>7</th>\n",
       "      <td>3.0</td>\n",
       "      <td>4.0</td>\n",
       "      <td>3</td>\n",
       "    </tr>\n",
       "    <tr>\n",
       "      <th>8</th>\n",
       "      <td>3.0</td>\n",
       "      <td>5.0</td>\n",
       "      <td>7</td>\n",
       "    </tr>\n",
       "    <tr>\n",
       "      <th>9</th>\n",
       "      <td>4.0</td>\n",
       "      <td>0.0</td>\n",
       "      <td>2</td>\n",
       "    </tr>\n",
       "    <tr>\n",
       "      <th>10</th>\n",
       "      <td>4.0</td>\n",
       "      <td>1.0</td>\n",
       "      <td>2</td>\n",
       "    </tr>\n",
       "    <tr>\n",
       "      <th>11</th>\n",
       "      <td>4.0</td>\n",
       "      <td>3.0</td>\n",
       "      <td>1</td>\n",
       "    </tr>\n",
       "    <tr>\n",
       "      <th>12</th>\n",
       "      <td>4.0</td>\n",
       "      <td>5.0</td>\n",
       "      <td>6</td>\n",
       "    </tr>\n",
       "    <tr>\n",
       "      <th>13</th>\n",
       "      <td>5.0</td>\n",
       "      <td>0.0</td>\n",
       "      <td>1</td>\n",
       "    </tr>\n",
       "    <tr>\n",
       "      <th>14</th>\n",
       "      <td>5.0</td>\n",
       "      <td>3.0</td>\n",
       "      <td>4</td>\n",
       "    </tr>\n",
       "    <tr>\n",
       "      <th>15</th>\n",
       "      <td>5.0</td>\n",
       "      <td>5.0</td>\n",
       "      <td>1</td>\n",
       "    </tr>\n",
       "  </tbody>\n",
       "</table>\n",
       "</div>"
      ],
      "text/plain": [
       "    XP219  Whitener  Count\n",
       "0     1.0       4.0      1\n",
       "1     1.0       5.0      6\n",
       "2     2.0       3.0      4\n",
       "3     2.0       5.0      7\n",
       "4     3.0       1.0      2\n",
       "5     3.0       2.0      2\n",
       "6     3.0       3.0      1\n",
       "7     3.0       4.0      3\n",
       "8     3.0       5.0      7\n",
       "9     4.0       0.0      2\n",
       "10    4.0       1.0      2\n",
       "11    4.0       3.0      1\n",
       "12    4.0       5.0      6\n",
       "13    5.0       0.0      1\n",
       "14    5.0       3.0      4\n",
       "15    5.0       5.0      1"
      ]
     },
     "execution_count": 144,
     "metadata": {},
     "output_type": "execute_result"
    }
   ],
   "source": [
    "xpwhitener"
   ]
  },
  {
   "cell_type": "code",
   "execution_count": 145,
   "metadata": {},
   "outputs": [
    {
     "data": {
      "text/html": [
       "<div>\n",
       "<style scoped>\n",
       "    .dataframe tbody tr th:only-of-type {\n",
       "        vertical-align: middle;\n",
       "    }\n",
       "\n",
       "    .dataframe tbody tr th {\n",
       "        vertical-align: top;\n",
       "    }\n",
       "\n",
       "    .dataframe thead th {\n",
       "        text-align: right;\n",
       "    }\n",
       "</style>\n",
       "<table border=\"1\" class=\"dataframe\">\n",
       "  <thead>\n",
       "    <tr style=\"text-align: right;\">\n",
       "      <th></th>\n",
       "      <th>Floss</th>\n",
       "      <th>Whitener</th>\n",
       "      <th>Count</th>\n",
       "    </tr>\n",
       "  </thead>\n",
       "  <tbody>\n",
       "    <tr>\n",
       "      <th>0</th>\n",
       "      <td>0.0</td>\n",
       "      <td>5.0</td>\n",
       "      <td>2</td>\n",
       "    </tr>\n",
       "    <tr>\n",
       "      <th>1</th>\n",
       "      <td>1.0</td>\n",
       "      <td>3.0</td>\n",
       "      <td>2</td>\n",
       "    </tr>\n",
       "    <tr>\n",
       "      <th>2</th>\n",
       "      <td>1.0</td>\n",
       "      <td>4.0</td>\n",
       "      <td>1</td>\n",
       "    </tr>\n",
       "    <tr>\n",
       "      <th>3</th>\n",
       "      <td>1.0</td>\n",
       "      <td>5.0</td>\n",
       "      <td>7</td>\n",
       "    </tr>\n",
       "    <tr>\n",
       "      <th>4</th>\n",
       "      <td>2.0</td>\n",
       "      <td>1.0</td>\n",
       "      <td>1</td>\n",
       "    </tr>\n",
       "    <tr>\n",
       "      <th>5</th>\n",
       "      <td>2.0</td>\n",
       "      <td>2.0</td>\n",
       "      <td>1</td>\n",
       "    </tr>\n",
       "    <tr>\n",
       "      <th>6</th>\n",
       "      <td>2.0</td>\n",
       "      <td>3.0</td>\n",
       "      <td>2</td>\n",
       "    </tr>\n",
       "    <tr>\n",
       "      <th>7</th>\n",
       "      <td>2.0</td>\n",
       "      <td>4.0</td>\n",
       "      <td>2</td>\n",
       "    </tr>\n",
       "    <tr>\n",
       "      <th>8</th>\n",
       "      <td>2.0</td>\n",
       "      <td>5.0</td>\n",
       "      <td>8</td>\n",
       "    </tr>\n",
       "    <tr>\n",
       "      <th>9</th>\n",
       "      <td>3.0</td>\n",
       "      <td>0.0</td>\n",
       "      <td>2</td>\n",
       "    </tr>\n",
       "    <tr>\n",
       "      <th>10</th>\n",
       "      <td>3.0</td>\n",
       "      <td>1.0</td>\n",
       "      <td>2</td>\n",
       "    </tr>\n",
       "    <tr>\n",
       "      <th>11</th>\n",
       "      <td>3.0</td>\n",
       "      <td>2.0</td>\n",
       "      <td>1</td>\n",
       "    </tr>\n",
       "    <tr>\n",
       "      <th>12</th>\n",
       "      <td>3.0</td>\n",
       "      <td>3.0</td>\n",
       "      <td>4</td>\n",
       "    </tr>\n",
       "    <tr>\n",
       "      <th>13</th>\n",
       "      <td>3.0</td>\n",
       "      <td>4.0</td>\n",
       "      <td>1</td>\n",
       "    </tr>\n",
       "    <tr>\n",
       "      <th>14</th>\n",
       "      <td>3.0</td>\n",
       "      <td>5.0</td>\n",
       "      <td>8</td>\n",
       "    </tr>\n",
       "    <tr>\n",
       "      <th>15</th>\n",
       "      <td>4.0</td>\n",
       "      <td>0.0</td>\n",
       "      <td>1</td>\n",
       "    </tr>\n",
       "    <tr>\n",
       "      <th>16</th>\n",
       "      <td>4.0</td>\n",
       "      <td>1.0</td>\n",
       "      <td>1</td>\n",
       "    </tr>\n",
       "    <tr>\n",
       "      <th>17</th>\n",
       "      <td>4.0</td>\n",
       "      <td>3.0</td>\n",
       "      <td>1</td>\n",
       "    </tr>\n",
       "    <tr>\n",
       "      <th>18</th>\n",
       "      <td>4.0</td>\n",
       "      <td>5.0</td>\n",
       "      <td>1</td>\n",
       "    </tr>\n",
       "    <tr>\n",
       "      <th>19</th>\n",
       "      <td>5.0</td>\n",
       "      <td>3.0</td>\n",
       "      <td>1</td>\n",
       "    </tr>\n",
       "    <tr>\n",
       "      <th>20</th>\n",
       "      <td>5.0</td>\n",
       "      <td>5.0</td>\n",
       "      <td>1</td>\n",
       "    </tr>\n",
       "  </tbody>\n",
       "</table>\n",
       "</div>"
      ],
      "text/plain": [
       "    Floss  Whitener  Count\n",
       "0     0.0       5.0      2\n",
       "1     1.0       3.0      2\n",
       "2     1.0       4.0      1\n",
       "3     1.0       5.0      7\n",
       "4     2.0       1.0      1\n",
       "5     2.0       2.0      1\n",
       "6     2.0       3.0      2\n",
       "7     2.0       4.0      2\n",
       "8     2.0       5.0      8\n",
       "9     3.0       0.0      2\n",
       "10    3.0       1.0      2\n",
       "11    3.0       2.0      1\n",
       "12    3.0       3.0      4\n",
       "13    3.0       4.0      1\n",
       "14    3.0       5.0      8\n",
       "15    4.0       0.0      1\n",
       "16    4.0       1.0      1\n",
       "17    4.0       3.0      1\n",
       "18    4.0       5.0      1\n",
       "19    5.0       3.0      1\n",
       "20    5.0       5.0      1"
      ]
     },
     "execution_count": 145,
     "metadata": {},
     "output_type": "execute_result"
    }
   ],
   "source": [
    "flosswhitener"
   ]
  },
  {
   "cell_type": "code",
   "execution_count": 149,
   "metadata": {},
   "outputs": [
    {
     "data": {
      "text/plain": [
       "10    0.04\n",
       "Name: Count, dtype: float64"
      ]
     },
     "execution_count": 149,
     "metadata": {},
     "output_type": "execute_result"
    }
   ],
   "source": [
    "#What is the probability that 4 units of XP219 and 1 unit of Whitener are sold?\n",
    "xpwhitener[(xpwhitener['XP219'] == 4) & (xpwhitener['Whitener'] == 1)]['Count'] / xpwhitener['Count'].sum()"
   ]
  },
  {
   "cell_type": "code",
   "execution_count": 150,
   "metadata": {},
   "outputs": [
    {
     "data": {
      "text/plain": [
       "14    0.16\n",
       "Name: Count, dtype: float64"
      ]
     },
     "execution_count": 150,
     "metadata": {},
     "output_type": "execute_result"
    }
   ],
   "source": [
    "#What is the probability that 3 units of Floss and 5 units of Whitener are sold?\n",
    "flosswhitener[(flosswhitener['Floss'] == 3) & (flosswhitener['Whitener'] == 5)]['Count'] / flosswhitener['Count'].sum()"
   ]
  },
  {
   "cell_type": "code",
   "execution_count": 156,
   "metadata": {},
   "outputs": [
    {
     "data": {
      "text/html": [
       "<div>\n",
       "<style scoped>\n",
       "    .dataframe tbody tr th:only-of-type {\n",
       "        vertical-align: middle;\n",
       "    }\n",
       "\n",
       "    .dataframe tbody tr th {\n",
       "        vertical-align: top;\n",
       "    }\n",
       "\n",
       "    .dataframe thead th {\n",
       "        text-align: right;\n",
       "    }\n",
       "</style>\n",
       "<table border=\"1\" class=\"dataframe\">\n",
       "  <thead>\n",
       "    <tr style=\"text-align: right;\">\n",
       "      <th></th>\n",
       "      <th>Week #</th>\n",
       "      <th>XP219</th>\n",
       "      <th>Floss</th>\n",
       "      <th>Whitener</th>\n",
       "    </tr>\n",
       "  </thead>\n",
       "  <tbody>\n",
       "    <tr>\n",
       "      <th>Week #</th>\n",
       "      <td>1.000000</td>\n",
       "      <td>0.018237</td>\n",
       "      <td>-0.084843</td>\n",
       "      <td>0.109316</td>\n",
       "    </tr>\n",
       "    <tr>\n",
       "      <th>XP219</th>\n",
       "      <td>0.018237</td>\n",
       "      <td>1.000000</td>\n",
       "      <td>0.886126</td>\n",
       "      <td>-0.397393</td>\n",
       "    </tr>\n",
       "    <tr>\n",
       "      <th>Floss</th>\n",
       "      <td>-0.084843</td>\n",
       "      <td>0.886126</td>\n",
       "      <td>1.000000</td>\n",
       "      <td>-0.346166</td>\n",
       "    </tr>\n",
       "    <tr>\n",
       "      <th>Whitener</th>\n",
       "      <td>0.109316</td>\n",
       "      <td>-0.397393</td>\n",
       "      <td>-0.346166</td>\n",
       "      <td>1.000000</td>\n",
       "    </tr>\n",
       "  </tbody>\n",
       "</table>\n",
       "</div>"
      ],
      "text/plain": [
       "            Week #     XP219     Floss  Whitener\n",
       "Week #    1.000000  0.018237 -0.084843  0.109316\n",
       "XP219     0.018237  1.000000  0.886126 -0.397393\n",
       "Floss    -0.084843  0.886126  1.000000 -0.346166\n",
       "Whitener  0.109316 -0.397393 -0.346166  1.000000"
      ]
     },
     "execution_count": 156,
     "metadata": {},
     "output_type": "execute_result"
    }
   ],
   "source": [
    "#What is the correlation between Floss and Whitener?\n",
    "df.corr()"
   ]
  },
  {
   "cell_type": "code",
   "execution_count": 160,
   "metadata": {},
   "outputs": [
    {
     "data": {
      "text/plain": [
       "array([[ 1.4784, -0.7688],\n",
       "       [-0.7688,  2.5316]])"
      ]
     },
     "execution_count": 160,
     "metadata": {},
     "output_type": "execute_result"
    }
   ],
   "source": [
    "#What is the covariance (population) between XP219 and Whitener?\n",
    "\n",
    "#ddof = 0 means it is population covariance, default is sample\n",
    "np.cov(df['XP219'], df['Whitener'],ddof = 0)"
   ]
  },
  {
   "cell_type": "code",
   "execution_count": 162,
   "metadata": {},
   "outputs": [],
   "source": [
    "profit = pd.DataFrame({'Sales': [1221,1509,1487,1321,1696,907,1098,1215,1802,1345,1301,987]})"
   ]
  },
  {
   "cell_type": "code",
   "execution_count": 164,
   "metadata": {},
   "outputs": [],
   "source": [
    "profit['Profit'] = profit['Sales']*17.5 - 19000"
   ]
  },
  {
   "cell_type": "code",
   "execution_count": 167,
   "metadata": {},
   "outputs": [
    {
     "data": {
      "text/plain": [
       "21984989.157196973"
      ]
     },
     "execution_count": 167,
     "metadata": {},
     "output_type": "execute_result"
    }
   ],
   "source": [
    "profit['Profit'].var()"
   ]
  },
  {
   "cell_type": "code",
   "execution_count": 178,
   "metadata": {},
   "outputs": [],
   "source": [
    "sales = pd.DataFrame({'Year': [2006, 2007, 2008, 2009, 2010, 2011, 2012, 2013, 2014, 2015], \\\n",
    "                     'WinterArrivalDay': [320,324,340,314,322,342,302,317,338,326],\\\n",
    "                     'SeasonalSales(Euros)': [120342,114397,102328,134786,132034,98078,138965,136753,114566,128435]})\n"
   ]
  },
  {
   "cell_type": "code",
   "execution_count": 186,
   "metadata": {},
   "outputs": [
    {
     "data": {
      "text/plain": [
       "-145469.30000000002"
      ]
     },
     "execution_count": 186,
     "metadata": {},
     "output_type": "execute_result"
    }
   ],
   "source": [
    "np.cov(sales['WinterArrivalDay'],sales['SeasonalSales(Euros)'],ddof=0)[0][1]"
   ]
  },
  {
   "cell_type": "code",
   "execution_count": 185,
   "metadata": {},
   "outputs": [
    {
     "data": {
      "text/html": [
       "<div>\n",
       "<style scoped>\n",
       "    .dataframe tbody tr th:only-of-type {\n",
       "        vertical-align: middle;\n",
       "    }\n",
       "\n",
       "    .dataframe tbody tr th {\n",
       "        vertical-align: top;\n",
       "    }\n",
       "\n",
       "    .dataframe thead th {\n",
       "        text-align: right;\n",
       "    }\n",
       "</style>\n",
       "<table border=\"1\" class=\"dataframe\">\n",
       "  <thead>\n",
       "    <tr style=\"text-align: right;\">\n",
       "      <th></th>\n",
       "      <th>Year</th>\n",
       "      <th>WinterArrivalDay</th>\n",
       "      <th>SeasonalSales(Euros)</th>\n",
       "    </tr>\n",
       "  </thead>\n",
       "  <tbody>\n",
       "    <tr>\n",
       "      <th>Year</th>\n",
       "      <td>1.000000</td>\n",
       "      <td>0.030565</td>\n",
       "      <td>0.284852</td>\n",
       "    </tr>\n",
       "    <tr>\n",
       "      <th>WinterArrivalDay</th>\n",
       "      <td>0.030565</td>\n",
       "      <td>1.000000</td>\n",
       "      <td>-0.885625</td>\n",
       "    </tr>\n",
       "    <tr>\n",
       "      <th>SeasonalSales(Euros)</th>\n",
       "      <td>0.284852</td>\n",
       "      <td>-0.885625</td>\n",
       "      <td>1.000000</td>\n",
       "    </tr>\n",
       "  </tbody>\n",
       "</table>\n",
       "</div>"
      ],
      "text/plain": [
       "                          Year  WinterArrivalDay  SeasonalSales(Euros)\n",
       "Year                  1.000000          0.030565              0.284852\n",
       "WinterArrivalDay      0.030565          1.000000             -0.885625\n",
       "SeasonalSales(Euros)  0.284852         -0.885625              1.000000"
      ]
     },
     "execution_count": 185,
     "metadata": {},
     "output_type": "execute_result"
    }
   ],
   "source": [
    "sales.corr()"
   ]
  },
  {
   "cell_type": "code",
   "execution_count": 243,
   "metadata": {},
   "outputs": [],
   "source": [
    "df = pd.read_csv(\"DuffyInudstries_RawData.csv\",index_col = 0, usecols = [0,1,2,3,4,5,6])"
   ]
  },
  {
   "cell_type": "code",
   "execution_count": 193,
   "metadata": {},
   "outputs": [
    {
     "data": {
      "text/html": [
       "<div>\n",
       "<style scoped>\n",
       "    .dataframe tbody tr th:only-of-type {\n",
       "        vertical-align: middle;\n",
       "    }\n",
       "\n",
       "    .dataframe tbody tr th {\n",
       "        vertical-align: top;\n",
       "    }\n",
       "\n",
       "    .dataframe thead th {\n",
       "        text-align: right;\n",
       "    }\n",
       "</style>\n",
       "<table border=\"1\" class=\"dataframe\">\n",
       "  <thead>\n",
       "    <tr style=\"text-align: right;\">\n",
       "      <th></th>\n",
       "      <th>CPL</th>\n",
       "      <th>Dist</th>\n",
       "      <th>LdTime</th>\n",
       "      <th>TrlLng</th>\n",
       "      <th>Wgt</th>\n",
       "    </tr>\n",
       "  </thead>\n",
       "  <tbody>\n",
       "    <tr>\n",
       "      <th>count</th>\n",
       "      <td>100.000000</td>\n",
       "      <td>100.00000</td>\n",
       "      <td>100.00000</td>\n",
       "      <td>100.000000</td>\n",
       "      <td>100.000000</td>\n",
       "    </tr>\n",
       "    <tr>\n",
       "      <th>mean</th>\n",
       "      <td>3131.600000</td>\n",
       "      <td>1207.18000</td>\n",
       "      <td>5.87000</td>\n",
       "      <td>51.250000</td>\n",
       "      <td>26708.180000</td>\n",
       "    </tr>\n",
       "    <tr>\n",
       "      <th>std</th>\n",
       "      <td>655.358519</td>\n",
       "      <td>386.84242</td>\n",
       "      <td>3.96106</td>\n",
       "      <td>2.396862</td>\n",
       "      <td>7069.840196</td>\n",
       "    </tr>\n",
       "    <tr>\n",
       "      <th>min</th>\n",
       "      <td>1660.000000</td>\n",
       "      <td>502.00000</td>\n",
       "      <td>0.00000</td>\n",
       "      <td>48.000000</td>\n",
       "      <td>15100.000000</td>\n",
       "    </tr>\n",
       "    <tr>\n",
       "      <th>25%</th>\n",
       "      <td>2631.750000</td>\n",
       "      <td>904.00000</td>\n",
       "      <td>2.75000</td>\n",
       "      <td>48.000000</td>\n",
       "      <td>21220.750000</td>\n",
       "    </tr>\n",
       "    <tr>\n",
       "      <th>50%</th>\n",
       "      <td>3166.000000</td>\n",
       "      <td>1273.00000</td>\n",
       "      <td>6.00000</td>\n",
       "      <td>53.000000</td>\n",
       "      <td>26513.500000</td>\n",
       "    </tr>\n",
       "    <tr>\n",
       "      <th>75%</th>\n",
       "      <td>3701.250000</td>\n",
       "      <td>1538.25000</td>\n",
       "      <td>9.00000</td>\n",
       "      <td>53.000000</td>\n",
       "      <td>32276.000000</td>\n",
       "    </tr>\n",
       "    <tr>\n",
       "      <th>max</th>\n",
       "      <td>4301.000000</td>\n",
       "      <td>1793.00000</td>\n",
       "      <td>13.00000</td>\n",
       "      <td>53.000000</td>\n",
       "      <td>39931.000000</td>\n",
       "    </tr>\n",
       "  </tbody>\n",
       "</table>\n",
       "</div>"
      ],
      "text/plain": [
       "               CPL        Dist     LdTime     TrlLng            Wgt\n",
       "count   100.000000   100.00000  100.00000  100.000000    100.000000\n",
       "mean   3131.600000  1207.18000    5.87000   51.250000  26708.180000\n",
       "std     655.358519   386.84242    3.96106    2.396862   7069.840196\n",
       "min    1660.000000   502.00000    0.00000   48.000000  15100.000000\n",
       "25%    2631.750000   904.00000    2.75000   48.000000  21220.750000\n",
       "50%    3166.000000  1273.00000    6.00000   53.000000  26513.500000\n",
       "75%    3701.250000  1538.25000    9.00000   53.000000  32276.000000\n",
       "max    4301.000000  1793.00000   13.00000   53.000000  39931.000000"
      ]
     },
     "execution_count": 193,
     "metadata": {},
     "output_type": "execute_result"
    }
   ],
   "source": [
    "df.describe()"
   ]
  },
  {
   "cell_type": "code",
   "execution_count": 194,
   "metadata": {},
   "outputs": [
    {
     "data": {
      "text/html": [
       "<div>\n",
       "<style scoped>\n",
       "    .dataframe tbody tr th:only-of-type {\n",
       "        vertical-align: middle;\n",
       "    }\n",
       "\n",
       "    .dataframe tbody tr th {\n",
       "        vertical-align: top;\n",
       "    }\n",
       "\n",
       "    .dataframe thead th {\n",
       "        text-align: right;\n",
       "    }\n",
       "</style>\n",
       "<table border=\"1\" class=\"dataframe\">\n",
       "  <thead>\n",
       "    <tr style=\"text-align: right;\">\n",
       "      <th></th>\n",
       "      <th>CPL</th>\n",
       "      <th>Dist</th>\n",
       "      <th>LdTime</th>\n",
       "      <th>TrlLng</th>\n",
       "      <th>Wgt</th>\n",
       "    </tr>\n",
       "  </thead>\n",
       "  <tbody>\n",
       "    <tr>\n",
       "      <th>CPL</th>\n",
       "      <td>1.000000</td>\n",
       "      <td>0.904213</td>\n",
       "      <td>-0.093314</td>\n",
       "      <td>0.141567</td>\n",
       "      <td>0.075855</td>\n",
       "    </tr>\n",
       "    <tr>\n",
       "      <th>Dist</th>\n",
       "      <td>0.904213</td>\n",
       "      <td>1.000000</td>\n",
       "      <td>0.004663</td>\n",
       "      <td>0.174593</td>\n",
       "      <td>0.119109</td>\n",
       "    </tr>\n",
       "    <tr>\n",
       "      <th>LdTime</th>\n",
       "      <td>-0.093314</td>\n",
       "      <td>0.004663</td>\n",
       "      <td>1.000000</td>\n",
       "      <td>-0.040163</td>\n",
       "      <td>0.066092</td>\n",
       "    </tr>\n",
       "    <tr>\n",
       "      <th>TrlLng</th>\n",
       "      <td>0.141567</td>\n",
       "      <td>0.174593</td>\n",
       "      <td>-0.040163</td>\n",
       "      <td>1.000000</td>\n",
       "      <td>0.006412</td>\n",
       "    </tr>\n",
       "    <tr>\n",
       "      <th>Wgt</th>\n",
       "      <td>0.075855</td>\n",
       "      <td>0.119109</td>\n",
       "      <td>0.066092</td>\n",
       "      <td>0.006412</td>\n",
       "      <td>1.000000</td>\n",
       "    </tr>\n",
       "  </tbody>\n",
       "</table>\n",
       "</div>"
      ],
      "text/plain": [
       "               CPL      Dist    LdTime   TrlLng        Wgt\n",
       "CPL       1.000000  0.904213 -0.093314  0.141567  0.075855\n",
       "Dist      0.904213  1.000000  0.004663  0.174593  0.119109\n",
       "LdTime   -0.093314  0.004663  1.000000 -0.040163  0.066092\n",
       " TrlLng   0.141567  0.174593 -0.040163  1.000000  0.006412\n",
       "Wgt       0.075855  0.119109  0.066092  0.006412  1.000000"
      ]
     },
     "execution_count": 194,
     "metadata": {},
     "output_type": "execute_result"
    }
   ],
   "source": [
    "df.corr()"
   ]
  },
  {
   "cell_type": "code",
   "execution_count": 202,
   "metadata": {},
   "outputs": [],
   "source": [
    "#Using the data for Duffy Industrials, create the model where CPL=f(Dist) = b0 + b1*(Dist)\n",
    "\n",
    "from sklearn.linear_model import LinearRegression\n",
    "from sklearn.metrics import r2_score\n",
    "import statsmodels.api as sm"
   ]
  },
  {
   "cell_type": "code",
   "execution_count": 227,
   "metadata": {},
   "outputs": [
    {
     "name": "stdout",
     "output_type": "stream",
     "text": [
      "                            OLS Regression Results                            \n",
      "==============================================================================\n",
      "Dep. Variable:                    CPL   R-squared:                       0.818\n",
      "Model:                            OLS   Adj. R-squared:                  0.816\n",
      "Method:                 Least Squares   F-statistic:                     439.3\n",
      "Date:                Fri, 22 May 2020   Prob (F-statistic):           5.47e-38\n",
      "Time:                        15:11:26   Log-Likelihood:                -704.83\n",
      "No. Observations:                 100   AIC:                             1414.\n",
      "Df Residuals:                      98   BIC:                             1419.\n",
      "Df Model:                           1                                         \n",
      "Covariance Type:            nonrobust                                         \n",
      "==============================================================================\n",
      "                 coef    std err          t      P>|t|      [0.025      0.975]\n",
      "------------------------------------------------------------------------------\n",
      "const       1282.3839     92.606     13.848      0.000    1098.610    1466.157\n",
      "Dist           1.5318      0.073     20.959      0.000       1.387       1.677\n",
      "==============================================================================\n",
      "Omnibus:                        7.513   Durbin-Watson:                   2.020\n",
      "Prob(Omnibus):                  0.023   Jarque-Bera (JB):                3.580\n",
      "Skew:                           0.204   Prob(JB):                        0.167\n",
      "Kurtosis:                       2.168   Cond. No.                     4.17e+03\n",
      "==============================================================================\n",
      "\n",
      "Warnings:\n",
      "[1] Standard Errors assume that the covariance matrix of the errors is correctly specified.\n",
      "[2] The condition number is large, 4.17e+03. This might indicate that there are\n",
      "strong multicollinearity or other numerical problems.\n"
     ]
    }
   ],
   "source": [
    "x = df['Dist']\n",
    "y = df['CPL']\n",
    "X = sm.add_constant(x)\n",
    "model = sm.OLS(y,X)\n",
    "est = model.fit()\n",
    "print(est.summary())\n"
   ]
  },
  {
   "cell_type": "code",
   "execution_count": 216,
   "metadata": {},
   "outputs": [
    {
     "data": {
      "text/plain": [
       "2814.1839"
      ]
     },
     "execution_count": 216,
     "metadata": {},
     "output_type": "execute_result"
    }
   ],
   "source": [
    "#Using this model, what is the estimated cost of a 1000 mile shipment?\n",
    "1282.3839 + 1.5318*1000\n"
   ]
  },
  {
   "cell_type": "code",
   "execution_count": 217,
   "metadata": {},
   "outputs": [],
   "source": [
    "#Using this model, what is the estimated cost of a 250 mile shipment?\n",
    "#You probably got a) correct at 2,814 dollars and got b) wrong! And you are probably \n",
    "#upset and confused because 1282 + 1.532(250) = 1665, which is what you probably calculated. \n",
    "#The answer is not actually 0, either. The correct answer is that you should not use the \n",
    "#estimation equation for values that fall out of the observed range of values. Notice that \n",
    "#the data for the distance ranged between 500 and 1800 miles. This means, it is not really \n",
    "#valid for use on shorter lengths of haul below 500 miles! Yes, this was tricky, but I hope you got the point! \n",
    "#Be sure you understand the assumptions of the model prior to just plugging in numbers!"
   ]
  },
  {
   "cell_type": "code",
   "execution_count": 228,
   "metadata": {},
   "outputs": [
    {
     "name": "stdout",
     "output_type": "stream",
     "text": [
      "                            OLS Regression Results                            \n",
      "==============================================================================\n",
      "Dep. Variable:                    CPL   R-squared:                       0.819\n",
      "Model:                            OLS   Adj. R-squared:                  0.815\n",
      "Method:                 Least Squares   F-statistic:                     218.9\n",
      "Date:                Fri, 22 May 2020   Prob (F-statistic):           1.10e-36\n",
      "Time:                        15:12:14   Log-Likelihood:                -704.55\n",
      "No. Observations:                 100   AIC:                             1415.\n",
      "Df Residuals:                      97   BIC:                             1423.\n",
      "Df Model:                           2                                         \n",
      "Covariance Type:            nonrobust                                         \n",
      "==============================================================================\n",
      "                 coef    std err          t      P>|t|      [0.025      0.975]\n",
      "------------------------------------------------------------------------------\n",
      "const       1354.4908    134.410     10.077      0.000    1087.724    1621.258\n",
      "Dist           1.5384      0.074     20.850      0.000       1.392       1.685\n",
      "Wgt           -0.0030      0.004     -0.742      0.460      -0.011       0.005\n",
      "==============================================================================\n",
      "Omnibus:                       10.932   Durbin-Watson:                   2.036\n",
      "Prob(Omnibus):                  0.004   Jarque-Bera (JB):                4.260\n",
      "Skew:                           0.203   Prob(JB):                        0.119\n",
      "Kurtosis:                       2.074   Cond. No.                     1.32e+05\n",
      "==============================================================================\n",
      "\n",
      "Warnings:\n",
      "[1] Standard Errors assume that the covariance matrix of the errors is correctly specified.\n",
      "[2] The condition number is large, 1.32e+05. This might indicate that there are\n",
      "strong multicollinearity or other numerical problems.\n"
     ]
    }
   ],
   "source": [
    "#linear regression with more than 1 variable\n",
    "x = df[['Dist','Wgt']]\n",
    "y = df['CPL']\n",
    "X = sm.add_constant(x)\n",
    "model = sm.OLS(y,X)\n",
    "est = model.fit()\n",
    "print(est.summary())\n",
    "# good p value usually is less than 0.1, 0.05, or 0.01, be careful if the confidence interval crosses 0 as can be seen on Wgt\n",
    "# ,especially if the coef is close to 0, it may be that the Wgt coefficient is not significant "
   ]
  },
  {
   "cell_type": "code",
   "execution_count": 234,
   "metadata": {},
   "outputs": [
    {
     "name": "stdout",
     "output_type": "stream",
     "text": [
      "                            OLS Regression Results                            \n",
      "==============================================================================\n",
      "Dep. Variable:                    CPL   R-squared:                       0.467\n",
      "Model:                            OLS   Adj. R-squared:                  0.462\n",
      "Method:                 Least Squares   F-statistic:                     86.03\n",
      "Date:                Fri, 22 May 2020   Prob (F-statistic):           4.53e-15\n",
      "Time:                        15:46:02   Log-Likelihood:                -758.40\n",
      "No. Observations:                 100   AIC:                             1521.\n",
      "Df Residuals:                      98   BIC:                             1526.\n",
      "Df Model:                           1                                         \n",
      "Covariance Type:            nonrobust                                         \n",
      "==============================================================================\n",
      "                 coef    std err          t      P>|t|      [0.025      0.975]\n",
      "------------------------------------------------------------------------------\n",
      "const       2131.4138    118.062     18.053      0.000    1897.124    2365.703\n",
      "DstWgt      3.071e-05   3.31e-06      9.275      0.000    2.41e-05    3.73e-05\n",
      "==============================================================================\n",
      "Omnibus:                        1.951   Durbin-Watson:                   1.773\n",
      "Prob(Omnibus):                  0.377   Jarque-Bera (JB):                1.989\n",
      "Skew:                           0.307   Prob(JB):                        0.370\n",
      "Kurtosis:                       2.684   Cond. No.                     8.76e+07\n",
      "==============================================================================\n",
      "\n",
      "Warnings:\n",
      "[1] Standard Errors assume that the covariance matrix of the errors is correctly specified.\n",
      "[2] The condition number is large, 8.76e+07. This might indicate that there are\n",
      "strong multicollinearity or other numerical problems.\n"
     ]
    }
   ],
   "source": [
    "#Suppose you think that the cost is a function of both distance and weight - but multiplicative rather than additive. \n",
    "#Create a new regression where CPL = f(DistWgt), where DistWgt = Dist * Weight.\n",
    "\n",
    "df['DstWgt'] = df['Dist'] * df['Wgt']\n",
    "x = df['DstWgt']\n",
    "y = df['CPL']\n",
    "X = sm.add_constant(x)\n",
    "model = sm.OLS(y,X)\n",
    "est = model.fit()\n",
    "print(est.summary())\n",
    "\n",
    "#What is the adjusted coefficient of determination of this new model (call it 2a)?.\n",
    "#(b) What is the p-value of the DistWgt coefficient?"
   ]
  },
  {
   "cell_type": "code",
   "execution_count": 244,
   "metadata": {},
   "outputs": [],
   "source": [
    "#Suppose you want to test the impact of having a longer lead time. \n",
    "#You think that providing the carriers a week or more notice will lead to lower rates. How would we test for this? \n",
    "#Lets try a model where CPL = f(Dist, WeekLead) where WeekLead = 1 if ldTime>= 7 days, and = 0 o.w. \n",
    "\n",
    "#first we have to create the WeekLead column which consist of those binary values\n",
    "df.loc[df['LdTime'] >= 7, 'WeekLead'] = 1\n",
    "df.loc[df['LdTime'] < 7, 'WeekLead'] = 0"
   ]
  },
  {
   "cell_type": "code",
   "execution_count": 245,
   "metadata": {},
   "outputs": [
    {
     "data": {
      "text/html": [
       "<div>\n",
       "<style scoped>\n",
       "    .dataframe tbody tr th:only-of-type {\n",
       "        vertical-align: middle;\n",
       "    }\n",
       "\n",
       "    .dataframe tbody tr th {\n",
       "        vertical-align: top;\n",
       "    }\n",
       "\n",
       "    .dataframe thead th {\n",
       "        text-align: right;\n",
       "    }\n",
       "</style>\n",
       "<table border=\"1\" class=\"dataframe\">\n",
       "  <thead>\n",
       "    <tr style=\"text-align: right;\">\n",
       "      <th></th>\n",
       "      <th>CPL</th>\n",
       "      <th>Dist</th>\n",
       "      <th>LdTime</th>\n",
       "      <th>TrlLng</th>\n",
       "      <th>Wgt</th>\n",
       "      <th>Equpt</th>\n",
       "      <th>WeekLead</th>\n",
       "    </tr>\n",
       "    <tr>\n",
       "      <th>ID</th>\n",
       "      <th></th>\n",
       "      <th></th>\n",
       "      <th></th>\n",
       "      <th></th>\n",
       "      <th></th>\n",
       "      <th></th>\n",
       "      <th></th>\n",
       "    </tr>\n",
       "  </thead>\n",
       "  <tbody>\n",
       "    <tr>\n",
       "      <th>1</th>\n",
       "      <td>3692</td>\n",
       "      <td>1579</td>\n",
       "      <td>1</td>\n",
       "      <td>53</td>\n",
       "      <td>20559</td>\n",
       "      <td>DRY</td>\n",
       "      <td>0.0</td>\n",
       "    </tr>\n",
       "    <tr>\n",
       "      <th>2</th>\n",
       "      <td>3279</td>\n",
       "      <td>1298</td>\n",
       "      <td>12</td>\n",
       "      <td>48</td>\n",
       "      <td>17025</td>\n",
       "      <td>REF</td>\n",
       "      <td>1.0</td>\n",
       "    </tr>\n",
       "    <tr>\n",
       "      <th>3</th>\n",
       "      <td>3120</td>\n",
       "      <td>1382</td>\n",
       "      <td>11</td>\n",
       "      <td>48</td>\n",
       "      <td>26735</td>\n",
       "      <td>DRY</td>\n",
       "      <td>1.0</td>\n",
       "    </tr>\n",
       "    <tr>\n",
       "      <th>4</th>\n",
       "      <td>3205</td>\n",
       "      <td>1033</td>\n",
       "      <td>1</td>\n",
       "      <td>53</td>\n",
       "      <td>26175</td>\n",
       "      <td>DRY</td>\n",
       "      <td>0.0</td>\n",
       "    </tr>\n",
       "    <tr>\n",
       "      <th>5</th>\n",
       "      <td>3188</td>\n",
       "      <td>1320</td>\n",
       "      <td>3</td>\n",
       "      <td>53</td>\n",
       "      <td>17994</td>\n",
       "      <td>DRY</td>\n",
       "      <td>0.0</td>\n",
       "    </tr>\n",
       "  </tbody>\n",
       "</table>\n",
       "</div>"
      ],
      "text/plain": [
       "     CPL  Dist  LdTime   TrlLng     Wgt Equpt  WeekLead\n",
       "ID                                                     \n",
       "1   3692  1579       1        53  20559   DRY       0.0\n",
       "2   3279  1298      12        48  17025   REF       1.0\n",
       "3   3120  1382      11        48  26735   DRY       1.0\n",
       "4   3205  1033       1        53  26175   DRY       0.0\n",
       "5   3188  1320       3        53  17994   DRY       0.0"
      ]
     },
     "execution_count": 245,
     "metadata": {},
     "output_type": "execute_result"
    }
   ],
   "source": [
    "df.head()"
   ]
  },
  {
   "cell_type": "code",
   "execution_count": 246,
   "metadata": {},
   "outputs": [
    {
     "name": "stdout",
     "output_type": "stream",
     "text": [
      "                            OLS Regression Results                            \n",
      "==============================================================================\n",
      "Dep. Variable:                    CPL   R-squared:                       0.823\n",
      "Model:                            OLS   Adj. R-squared:                  0.820\n",
      "Method:                 Least Squares   F-statistic:                     226.3\n",
      "Date:                Fri, 22 May 2020   Prob (F-statistic):           2.94e-37\n",
      "Time:                        15:52:39   Log-Likelihood:                -703.19\n",
      "No. Observations:                 100   AIC:                             1412.\n",
      "Df Residuals:                      97   BIC:                             1420.\n",
      "Df Model:                           2                                         \n",
      "Covariance Type:            nonrobust                                         \n",
      "==============================================================================\n",
      "                 coef    std err          t      P>|t|      [0.025      0.975]\n",
      "------------------------------------------------------------------------------\n",
      "const       1337.7878     96.608     13.848      0.000    1146.047    1529.529\n",
      "Dist           1.5213      0.073     20.983      0.000       1.377       1.665\n",
      "WeekLead    -101.7117     56.542     -1.799      0.075    -213.932      10.508\n",
      "==============================================================================\n",
      "Omnibus:                       10.933   Durbin-Watson:                   1.973\n",
      "Prob(Omnibus):                  0.004   Jarque-Bera (JB):                4.439\n",
      "Skew:                           0.233   Prob(JB):                        0.109\n",
      "Kurtosis:                       2.079   Cond. No.                     4.51e+03\n",
      "==============================================================================\n",
      "\n",
      "Warnings:\n",
      "[1] Standard Errors assume that the covariance matrix of the errors is correctly specified.\n",
      "[2] The condition number is large, 4.51e+03. This might indicate that there are\n",
      "strong multicollinearity or other numerical problems.\n"
     ]
    }
   ],
   "source": [
    "x = df[['Dist','WeekLead']]\n",
    "y = df['CPL']\n",
    "X = sm.add_constant(x)\n",
    "model = sm.OLS(y,X)\n",
    "est = model.fit()\n",
    "print(est.summary())\n",
    "#What is the adjusted coefficient of determination of this new model?\n",
    "#What is the p-value of the WeekLead coefficient?"
   ]
  },
  {
   "cell_type": "code",
   "execution_count": 247,
   "metadata": {},
   "outputs": [
    {
     "data": {
      "text/html": [
       "<div>\n",
       "<style scoped>\n",
       "    .dataframe tbody tr th:only-of-type {\n",
       "        vertical-align: middle;\n",
       "    }\n",
       "\n",
       "    .dataframe tbody tr th {\n",
       "        vertical-align: top;\n",
       "    }\n",
       "\n",
       "    .dataframe thead th {\n",
       "        text-align: right;\n",
       "    }\n",
       "</style>\n",
       "<table border=\"1\" class=\"dataframe\">\n",
       "  <thead>\n",
       "    <tr style=\"text-align: right;\">\n",
       "      <th></th>\n",
       "      <th>CPL</th>\n",
       "      <th>Dist</th>\n",
       "      <th>LdTime</th>\n",
       "      <th>TrlLng</th>\n",
       "      <th>Wgt</th>\n",
       "      <th>Equpt</th>\n",
       "    </tr>\n",
       "    <tr>\n",
       "      <th>ID</th>\n",
       "      <th></th>\n",
       "      <th></th>\n",
       "      <th></th>\n",
       "      <th></th>\n",
       "      <th></th>\n",
       "      <th></th>\n",
       "    </tr>\n",
       "  </thead>\n",
       "  <tbody>\n",
       "    <tr>\n",
       "      <th>1</th>\n",
       "      <td>3692</td>\n",
       "      <td>1579</td>\n",
       "      <td>1</td>\n",
       "      <td>53</td>\n",
       "      <td>20559</td>\n",
       "      <td>DRY</td>\n",
       "    </tr>\n",
       "    <tr>\n",
       "      <th>2</th>\n",
       "      <td>3279</td>\n",
       "      <td>1298</td>\n",
       "      <td>12</td>\n",
       "      <td>48</td>\n",
       "      <td>17025</td>\n",
       "      <td>REF</td>\n",
       "    </tr>\n",
       "    <tr>\n",
       "      <th>3</th>\n",
       "      <td>3120</td>\n",
       "      <td>1382</td>\n",
       "      <td>11</td>\n",
       "      <td>48</td>\n",
       "      <td>26735</td>\n",
       "      <td>DRY</td>\n",
       "    </tr>\n",
       "    <tr>\n",
       "      <th>4</th>\n",
       "      <td>3205</td>\n",
       "      <td>1033</td>\n",
       "      <td>1</td>\n",
       "      <td>53</td>\n",
       "      <td>26175</td>\n",
       "      <td>DRY</td>\n",
       "    </tr>\n",
       "    <tr>\n",
       "      <th>5</th>\n",
       "      <td>3188</td>\n",
       "      <td>1320</td>\n",
       "      <td>3</td>\n",
       "      <td>53</td>\n",
       "      <td>17994</td>\n",
       "      <td>DRY</td>\n",
       "    </tr>\n",
       "  </tbody>\n",
       "</table>\n",
       "</div>"
      ],
      "text/plain": [
       "     CPL  Dist  LdTime   TrlLng     Wgt Equpt\n",
       "ID                                           \n",
       "1   3692  1579       1        53  20559   DRY\n",
       "2   3279  1298      12        48  17025   REF\n",
       "3   3120  1382      11        48  26735   DRY\n",
       "4   3205  1033       1        53  26175   DRY\n",
       "5   3188  1320       3        53  17994   DRY"
      ]
     },
     "execution_count": 247,
     "metadata": {},
     "output_type": "execute_result"
    }
   ],
   "source": [
    "#Let's take a look at Model 1 below and test it for the assumption that the residuals are ~N(0, sigma). \n",
    "#Run the model and calculate the residuals (the software package will probably just give you this.).\n",
    "\n",
    "df = pd.read_csv(\"DuffyInudstries_RawData.csv\",index_col = 0, usecols = [0,1,2,3,4,5,6])\n",
    "df.head()"
   ]
  },
  {
   "cell_type": "code",
   "execution_count": 262,
   "metadata": {},
   "outputs": [
    {
     "data": {
      "text/plain": [
       "-5.729816621169448e-13"
      ]
     },
     "execution_count": 262,
     "metadata": {},
     "output_type": "execute_result"
    }
   ],
   "source": [
    "x = df['Dist']\n",
    "y = df['CPL']\n",
    "X = sm.add_constant(x)\n",
    "model = sm.OLS(y,X)\n",
    "est = model.fit()\n",
    "\n",
    "#What is the average or mean of the residuals from Model 1?\n",
    "#see https://www.statsmodels.org/stable/generated/statsmodels.regression.linear_model.OLSResults.html#statsmodels.regression.linear_model.OLSResults\n",
    "#for reference\n",
    "est.resid.mean()"
   ]
  },
  {
   "cell_type": "code",
   "execution_count": 263,
   "metadata": {},
   "outputs": [
    {
     "data": {
      "text/plain": [
       "279.8915896090775"
      ]
     },
     "execution_count": 263,
     "metadata": {},
     "output_type": "execute_result"
    }
   ],
   "source": [
    "#What is the population standard deviation of the residuals from Model 1?\n",
    "est.resid.std()"
   ]
  },
  {
   "cell_type": "code",
   "execution_count": 297,
   "metadata": {},
   "outputs": [
    {
     "data": {
      "text/html": [
       "<div>\n",
       "<style scoped>\n",
       "    .dataframe tbody tr th:only-of-type {\n",
       "        vertical-align: middle;\n",
       "    }\n",
       "\n",
       "    .dataframe tbody tr th {\n",
       "        vertical-align: top;\n",
       "    }\n",
       "\n",
       "    .dataframe thead th {\n",
       "        text-align: right;\n",
       "    }\n",
       "</style>\n",
       "<table border=\"1\" class=\"dataframe\">\n",
       "  <thead>\n",
       "    <tr style=\"text-align: right;\">\n",
       "      <th></th>\n",
       "      <th>Sunlight</th>\n",
       "      <th>BatteryType</th>\n",
       "      <th>Distance</th>\n",
       "    </tr>\n",
       "  </thead>\n",
       "  <tbody>\n",
       "    <tr>\n",
       "      <th>0</th>\n",
       "      <td>31.0</td>\n",
       "      <td>Type0</td>\n",
       "      <td>306.96</td>\n",
       "    </tr>\n",
       "    <tr>\n",
       "      <th>1</th>\n",
       "      <td>44.0</td>\n",
       "      <td>Type0</td>\n",
       "      <td>307.34</td>\n",
       "    </tr>\n",
       "    <tr>\n",
       "      <th>2</th>\n",
       "      <td>37.0</td>\n",
       "      <td>Type0</td>\n",
       "      <td>270.40</td>\n",
       "    </tr>\n",
       "    <tr>\n",
       "      <th>3</th>\n",
       "      <td>36.0</td>\n",
       "      <td>Type0</td>\n",
       "      <td>249.94</td>\n",
       "    </tr>\n",
       "    <tr>\n",
       "      <th>4</th>\n",
       "      <td>23.0</td>\n",
       "      <td>Type0</td>\n",
       "      <td>138.83</td>\n",
       "    </tr>\n",
       "  </tbody>\n",
       "</table>\n",
       "</div>"
      ],
      "text/plain": [
       "   Sunlight BatteryType  Distance  \n",
       "0      31.0       Type0      306.96\n",
       "1      44.0       Type0      307.34\n",
       "2      37.0       Type0      270.40\n",
       "3      36.0       Type0      249.94\n",
       "4      23.0       Type0      138.83"
      ]
     },
     "execution_count": 297,
     "metadata": {},
     "output_type": "execute_result"
    }
   ],
   "source": [
    "#As of now, there are two main variables that influence the overall distance traveled (Z) \n",
    "#by each car given one full battery charge: the battery type and the amount of sunlight \n",
    "#during a test run. Data has been collected from the many tests conducted on the cars. \n",
    "#You have been assigned to establish the relationships among these variables \n",
    "#and to predict how the distance traveled will change as the different variables change.\n",
    "\n",
    "#Regress the amount of sunlight and battery type against distance traveled using battery \n",
    "#type as a class (also known as dummy or categorical) variable.\n",
    "#This means that distance travelled is your dependent (y) variable.\n",
    "\n",
    "cardata = pd.read_csv(\"racecardata.csv\", header = 1, usecols = [0,1,2])\n",
    "cardata.head()"
   ]
  },
  {
   "cell_type": "code",
   "execution_count": 298,
   "metadata": {},
   "outputs": [],
   "source": [
    "cardata.columns = ['Sunlight', 'BatteryType', 'Dist']\n",
    "cardata.loc[cardata['BatteryType'] == 'Type0', 'ispolymer'] = 1\n",
    "cardata.loc[cardata['BatteryType'] == 'Type1', 'ispolymer'] = 0\n",
    "cardata = cardata.dropna(how = 'all')"
   ]
  },
  {
   "cell_type": "code",
   "execution_count": 299,
   "metadata": {},
   "outputs": [
    {
     "data": {
      "text/html": [
       "<div>\n",
       "<style scoped>\n",
       "    .dataframe tbody tr th:only-of-type {\n",
       "        vertical-align: middle;\n",
       "    }\n",
       "\n",
       "    .dataframe tbody tr th {\n",
       "        vertical-align: top;\n",
       "    }\n",
       "\n",
       "    .dataframe thead th {\n",
       "        text-align: right;\n",
       "    }\n",
       "</style>\n",
       "<table border=\"1\" class=\"dataframe\">\n",
       "  <thead>\n",
       "    <tr style=\"text-align: right;\">\n",
       "      <th></th>\n",
       "      <th>Sunlight</th>\n",
       "      <th>BatteryType</th>\n",
       "      <th>Dist</th>\n",
       "      <th>ispolymer</th>\n",
       "    </tr>\n",
       "  </thead>\n",
       "  <tbody>\n",
       "    <tr>\n",
       "      <th>0</th>\n",
       "      <td>31.0</td>\n",
       "      <td>Type0</td>\n",
       "      <td>306.96</td>\n",
       "      <td>1.0</td>\n",
       "    </tr>\n",
       "    <tr>\n",
       "      <th>1</th>\n",
       "      <td>44.0</td>\n",
       "      <td>Type0</td>\n",
       "      <td>307.34</td>\n",
       "      <td>1.0</td>\n",
       "    </tr>\n",
       "    <tr>\n",
       "      <th>2</th>\n",
       "      <td>37.0</td>\n",
       "      <td>Type0</td>\n",
       "      <td>270.40</td>\n",
       "      <td>1.0</td>\n",
       "    </tr>\n",
       "    <tr>\n",
       "      <th>3</th>\n",
       "      <td>36.0</td>\n",
       "      <td>Type0</td>\n",
       "      <td>249.94</td>\n",
       "      <td>1.0</td>\n",
       "    </tr>\n",
       "    <tr>\n",
       "      <th>4</th>\n",
       "      <td>23.0</td>\n",
       "      <td>Type0</td>\n",
       "      <td>138.83</td>\n",
       "      <td>1.0</td>\n",
       "    </tr>\n",
       "  </tbody>\n",
       "</table>\n",
       "</div>"
      ],
      "text/plain": [
       "   Sunlight BatteryType    Dist  ispolymer\n",
       "0      31.0       Type0  306.96        1.0\n",
       "1      44.0       Type0  307.34        1.0\n",
       "2      37.0       Type0  270.40        1.0\n",
       "3      36.0       Type0  249.94        1.0\n",
       "4      23.0       Type0  138.83        1.0"
      ]
     },
     "execution_count": 299,
     "metadata": {},
     "output_type": "execute_result"
    }
   ],
   "source": [
    "cardata.head()"
   ]
  },
  {
   "cell_type": "code",
   "execution_count": 300,
   "metadata": {},
   "outputs": [
    {
     "name": "stdout",
     "output_type": "stream",
     "text": [
      "                            OLS Regression Results                            \n",
      "==============================================================================\n",
      "Dep. Variable:                   Dist   R-squared:                       0.621\n",
      "Model:                            OLS   Adj. R-squared:                  0.608\n",
      "Method:                 Least Squares   F-statistic:                     50.73\n",
      "Date:                Fri, 22 May 2020   Prob (F-statistic):           8.88e-14\n",
      "Time:                        19:27:30   Log-Likelihood:                -358.67\n",
      "No. Observations:                  65   AIC:                             723.3\n",
      "Df Residuals:                      62   BIC:                             729.9\n",
      "Df Model:                           2                                         \n",
      "Covariance Type:            nonrobust                                         \n",
      "==============================================================================\n",
      "                 coef    std err          t      P>|t|      [0.025      0.975]\n",
      "------------------------------------------------------------------------------\n",
      "const        156.5683     28.173      5.557      0.000     100.250     212.886\n",
      "Sunlight       5.4808      0.576      9.509      0.000       4.329       6.633\n",
      "ispolymer    -48.6609     15.360     -3.168      0.002     -79.364     -17.957\n",
      "==============================================================================\n",
      "Omnibus:                        6.429   Durbin-Watson:                   2.162\n",
      "Prob(Omnibus):                  0.040   Jarque-Bera (JB):                5.597\n",
      "Skew:                           0.675   Prob(JB):                       0.0609\n",
      "Kurtosis:                       3.496   Cond. No.                         174.\n",
      "==============================================================================\n",
      "\n",
      "Warnings:\n",
      "[1] Standard Errors assume that the covariance matrix of the errors is correctly specified.\n"
     ]
    }
   ],
   "source": [
    "x = cardata[['Sunlight','ispolymer']]\n",
    "y = cardata['Dist']\n",
    "X = sm.add_constant(x)\n",
    "model = sm.OLS(y,X)\n",
    "est = model.fit()\n",
    "print(est.summary())"
   ]
  },
  {
   "cell_type": "code",
   "execution_count": 305,
   "metadata": {},
   "outputs": [
    {
     "name": "stdout",
     "output_type": "stream",
     "text": [
      "420.313\n"
     ]
    }
   ],
   "source": [
    "sunlight = 57\n",
    "ispolymer = 1\n",
    "\n",
    "equation = 156.5683 + 5.4808*sunlight -48.6609*ispolymer\n",
    "print(equation)"
   ]
  },
  {
   "cell_type": "code",
   "execution_count": 306,
   "metadata": {},
   "outputs": [],
   "source": [
    "#Fresh!Now! is a chain of grocery stores in the United States with 1271 grocery stores in total, \n",
    "#some of which also sell bakery goods and freshly made food-to-go. Fresh!Now!’s goal is to provide \n",
    "#good quality fresh vegetables at affordable prices. However, given the existing market of organic \n",
    "#food supplies, Fresh!Now! is facing tremendous competition. They realize that Fresh!Now! has to \n",
    "#make their stores more attractive to customers.\n",
    "\n",
    "#In 19 stores across Massachusetts and New York, they have implemented a new concept to present the \n",
    "#vegetables in the stores and have collected information of the average daily profit of leafy \n",
    "#vegetables (in dollar) per customer per store (see table below). Janine, the head of the analytics \n",
    "#department at Fresh!Now!, has tasked you with developing an anlaysis to better understand if the \n",
    "#new concept has any effect.\n",
    "\n",
    "store = pd.DataFrame({'Store':['MA 1','MA 2','MA 3','MA 4','MA 5','MA 6','MA 7','MA 8','MA 9','NY 1','NY 2',\\\n",
    "                              'NY 3','NY 4','NY 5','NY 6','NY 7','NY 8','NY 9','NY 10'],\\\n",
    "                     'Profit/cust':[15.81,17.33,11.04,13.49,14.07,16.16,17.18,14.94,12.6,15.49,15.75,15.33,16.28,14.75,17.97\\\n",
    "                                    ,14.31,15.21,10.79,16.68]})"
   ]
  },
  {
   "cell_type": "code",
   "execution_count": 308,
   "metadata": {},
   "outputs": [
    {
     "data": {
      "text/plain": [
       "19"
      ]
     },
     "execution_count": 308,
     "metadata": {},
     "output_type": "execute_result"
    }
   ],
   "source": [
    "len(store)"
   ]
  },
  {
   "cell_type": "code",
   "execution_count": 324,
   "metadata": {},
   "outputs": [],
   "source": [
    "#Your first task it to create a 95% confidence interval for the mean of the \n",
    "#dataset using the sample collected from Massachusetts and New York.\n",
    "\n",
    "#since len is less than 30 we will use t distribution\n",
    "dof = len(store['Profit/cust']) - 1\n",
    "loc = store['Profit/cust'].mean()\n",
    "scale = store['Profit/cust'].std()/np.sqrt(len(store['Profit/cust']))\n",
    "storedist = stats.t(dof,loc,scale)"
   ]
  },
  {
   "cell_type": "code",
   "execution_count": 312,
   "metadata": {},
   "outputs": [
    {
     "data": {
      "text/plain": [
       "15.955001182218234"
      ]
     },
     "execution_count": 312,
     "metadata": {},
     "output_type": "execute_result"
    }
   ],
   "source": [
    "#What is the upper limit of this confidence interval?\n",
    "storedist.ppf(0.975)"
   ]
  },
  {
   "cell_type": "code",
   "execution_count": 313,
   "metadata": {},
   "outputs": [
    {
     "data": {
      "text/plain": [
       "14.063946186202825"
      ]
     },
     "execution_count": 313,
     "metadata": {},
     "output_type": "execute_result"
    }
   ],
   "source": [
    "#What is the lower limit of this confidence interval?\n",
    "storedist.ppf(0.025)"
   ]
  },
  {
   "cell_type": "code",
   "execution_count": 314,
   "metadata": {},
   "outputs": [
    {
     "data": {
      "text/plain": [
       "15.789895228630733"
      ]
     },
     "execution_count": 314,
     "metadata": {},
     "output_type": "execute_result"
    }
   ],
   "source": [
    "storedist.ppf(0.95)"
   ]
  },
  {
   "cell_type": "code",
   "execution_count": 316,
   "metadata": {},
   "outputs": [
    {
     "data": {
      "text/plain": [
       "0.01198883262766141"
      ]
     },
     "execution_count": 316,
     "metadata": {},
     "output_type": "execute_result"
    }
   ],
   "source": [
    "#To understand if the new concept has taken effect, you want to conduct a hypothesis test. \n",
    "#Average daily profit per customer per store for the leafy vegetables in all other \n",
    "#Fresh!Now! grocery stores is 13.9.\n",
    "\n",
    "#You formulate the following hypothesis test:\n",
    "\n",
    "#H0: Average daily profit at Fresh!Now! in the New York/Massachusetts stores is not \n",
    "    higher than the average daily profit of all other Fresh!Now! grocery stores at a confidence level of 95%.\n",
    "\n",
    "#H1: Average daily profit at Fresh!Now! in the New York/Massachusetts stores is higher \n",
    "    than the average daily profit of all other Fresh!Now! grocery stores at a confidence level of 95%.\n",
    "\n",
    "#Calculate the p-value for the hypothesis test above.\n",
    "storedist.cdf(13.9)"
   ]
  },
  {
   "cell_type": "code",
   "execution_count": 317,
   "metadata": {},
   "outputs": [
    {
     "data": {
      "text/plain": [
       "14.229052139790326"
      ]
     },
     "execution_count": 317,
     "metadata": {},
     "output_type": "execute_result"
    }
   ],
   "source": [
    "#lower limit for confidence interval = at 5% because this is a one tailed test\n",
    "storedist.ppf(0.05)\n",
    "\n",
    "#since 13.9 is less than the lower limit, we can reject the null hypothesis (H0)"
   ]
  },
  {
   "cell_type": "code",
   "execution_count": 332,
   "metadata": {},
   "outputs": [
    {
     "data": {
      "text/plain": [
       "2.465203519872934"
      ]
     },
     "execution_count": 332,
     "metadata": {},
     "output_type": "execute_result"
    }
   ],
   "source": [
    "#Calculate the test-statistic for the hypothesis test above.\n",
    "(store['Profit/cust'].mean() - 13.9)/(store['Profit/cust'].std()/np.sqrt(len(store['Profit/cust'])))"
   ]
  },
  {
   "cell_type": "code",
   "execution_count": 337,
   "metadata": {},
   "outputs": [
    {
     "name": "stdout",
     "output_type": "stream",
     "text": [
      "22660.56\n"
     ]
    }
   ],
   "source": [
    "#You are working with the marketing team for a FMCG firm that produces shaving cream. \n",
    "#The team believes that sales of some of the products are closely related to sales of \n",
    "#other products. They want you to explore this in a little more depth for two products, \n",
    "#SKU 123 and SKU 456. Unfortunately, all of the base sales data \n",
    "#for these products has been destroyed. All that you have is the weekly summary data:\n",
    "\n",
    "#Data\n",
    "#        Mean    Standard Deviation\n",
    "#SKU123  836         104\n",
    "#SKU456  930         269\n",
    "\n",
    "#The marketing team believes the correlation of these items is 0.81.\n",
    "#What would the covariance need to be for the marketing team to be correct?\n",
    "\n",
    "corr = 0.81\n",
    "stdx = 104\n",
    "stdy = 269\n",
    "meanx = 836\n",
    "meany = 930\n",
    "cov = corr*(stdx*stdy)\n",
    "print(cov)"
   ]
  },
  {
   "cell_type": "code",
   "execution_count": 341,
   "metadata": {},
   "outputs": [
    {
     "name": "stdout",
     "output_type": "stream",
     "text": [
      "17657.5\n"
     ]
    }
   ],
   "source": [
    "#Now the marketing team wants to understand the potential weekly sales for these two products. \n",
    "#Let the sales price for the two SKUs be 12.50, 7.75, respectively.\n",
    "\n",
    "#What is the expected weekly revenue?\n",
    "\n",
    "a = 12.5\n",
    "b = 7.75\n",
    "weeklymean = meanx*a + meany*b\n",
    "print(weeklymean)"
   ]
  },
  {
   "cell_type": "code",
   "execution_count": 342,
   "metadata": {},
   "outputs": [
    {
     "name": "stdout",
     "output_type": "stream",
     "text": [
      "3229.0348499977513\n"
     ]
    }
   ],
   "source": [
    "#What is the standard deviation of the weekly revenue?\n",
    "weeklystd = np.sqrt(a**2 * stdx**2 + b**2 * stdy**2 + 2*a*b*stdx*stdy*corr)\n",
    "print(weeklystd)"
   ]
  },
  {
   "cell_type": "code",
   "execution_count": 343,
   "metadata": {},
   "outputs": [
    {
     "data": {
      "text/plain": [
       "0.7570524968354251"
      ]
     },
     "execution_count": 343,
     "metadata": {},
     "output_type": "execute_result"
    }
   ],
   "source": [
    "#Assuming the joint distribution is normal, and the marketing team’s correlation of 0.81 is correct. \n",
    "#What is the probability that weekly sales will be between 10,000 and 20,000 dollars?\n",
    "\n",
    "stats.norm(weeklymean,weeklystd).cdf(20000) - stats.norm(weeklymean,weeklystd).cdf(10000) "
   ]
  },
  {
   "cell_type": "code",
   "execution_count": 348,
   "metadata": {},
   "outputs": [],
   "source": [
    "#In its latest press release, Pill International announced that they are working on a new drug \n",
    "#that would stunt the deterioration of brain cells in Alzheimer's patients. If successful, the \n",
    "#drug could prolong the life of patients and allow them to retain their basic mobility.\n",
    "\n",
    "#The R&D team is currently testing the drug, which comes in the form of a digestible tablet, for \n",
    "#its ability to be dissolved and absorbed in the bloodstream. Based on their latest experiments, \n",
    "#they have learned that there is a relationship between the amount of time that the tablet's powder \n",
    "#spends in the tray dryer and the amount of time it takes to get dissolved (Y). As a member of \n",
    "#this research team, you have been asked to establish the relationship between \n",
    "#the two variables and to predict potential dissolution times based on the time spent in the dryer.\n",
    "\n",
    "\n",
    "drug = pd.read_csv(\"drug.csv\", header = 0, usecols = [0,1])"
   ]
  },
  {
   "cell_type": "code",
   "execution_count": 350,
   "metadata": {},
   "outputs": [],
   "source": [
    "drug = drug.dropna(how = \"all\")"
   ]
  },
  {
   "cell_type": "code",
   "execution_count": 352,
   "metadata": {},
   "outputs": [
    {
     "data": {
      "text/html": [
       "<div>\n",
       "<style scoped>\n",
       "    .dataframe tbody tr th:only-of-type {\n",
       "        vertical-align: middle;\n",
       "    }\n",
       "\n",
       "    .dataframe tbody tr th {\n",
       "        vertical-align: top;\n",
       "    }\n",
       "\n",
       "    .dataframe thead th {\n",
       "        text-align: right;\n",
       "    }\n",
       "</style>\n",
       "<table border=\"1\" class=\"dataframe\">\n",
       "  <thead>\n",
       "    <tr style=\"text-align: right;\">\n",
       "      <th></th>\n",
       "      <th>Timeindryer</th>\n",
       "      <th>Dissolutiontime</th>\n",
       "    </tr>\n",
       "  </thead>\n",
       "  <tbody>\n",
       "    <tr>\n",
       "      <th>0</th>\n",
       "      <td>59.0</td>\n",
       "      <td>612.75</td>\n",
       "    </tr>\n",
       "    <tr>\n",
       "      <th>1</th>\n",
       "      <td>32.0</td>\n",
       "      <td>309.17</td>\n",
       "    </tr>\n",
       "    <tr>\n",
       "      <th>2</th>\n",
       "      <td>38.0</td>\n",
       "      <td>407.29</td>\n",
       "    </tr>\n",
       "    <tr>\n",
       "      <th>3</th>\n",
       "      <td>59.0</td>\n",
       "      <td>576.47</td>\n",
       "    </tr>\n",
       "    <tr>\n",
       "      <th>4</th>\n",
       "      <td>63.0</td>\n",
       "      <td>509.90</td>\n",
       "    </tr>\n",
       "    <tr>\n",
       "      <th>5</th>\n",
       "      <td>30.0</td>\n",
       "      <td>298.61</td>\n",
       "    </tr>\n",
       "    <tr>\n",
       "      <th>6</th>\n",
       "      <td>67.0</td>\n",
       "      <td>685.48</td>\n",
       "    </tr>\n",
       "    <tr>\n",
       "      <th>7</th>\n",
       "      <td>38.0</td>\n",
       "      <td>496.63</td>\n",
       "    </tr>\n",
       "    <tr>\n",
       "      <th>8</th>\n",
       "      <td>40.0</td>\n",
       "      <td>357.26</td>\n",
       "    </tr>\n",
       "    <tr>\n",
       "      <th>9</th>\n",
       "      <td>56.0</td>\n",
       "      <td>553.16</td>\n",
       "    </tr>\n",
       "  </tbody>\n",
       "</table>\n",
       "</div>"
      ],
      "text/plain": [
       "   Timeindryer  Dissolutiontime\n",
       "0         59.0           612.75\n",
       "1         32.0           309.17\n",
       "2         38.0           407.29\n",
       "3         59.0           576.47\n",
       "4         63.0           509.90\n",
       "5         30.0           298.61\n",
       "6         67.0           685.48\n",
       "7         38.0           496.63\n",
       "8         40.0           357.26\n",
       "9         56.0           553.16"
      ]
     },
     "execution_count": 352,
     "metadata": {},
     "output_type": "execute_result"
    }
   ],
   "source": [
    "drug.head(10)"
   ]
  },
  {
   "cell_type": "code",
   "execution_count": 361,
   "metadata": {},
   "outputs": [
    {
     "name": "stdout",
     "output_type": "stream",
     "text": [
      "                            OLS Regression Results                            \n",
      "==============================================================================\n",
      "Dep. Variable:        Dissolutiontime   R-squared:                       0.749\n",
      "Model:                            OLS   Adj. R-squared:                  0.743\n",
      "Method:                 Least Squares   F-statistic:                     143.0\n",
      "Date:                Fri, 22 May 2020   Prob (F-statistic):           5.29e-16\n",
      "Time:                        21:32:18   Log-Likelihood:                -284.41\n",
      "No. Observations:                  50   AIC:                             572.8\n",
      "Df Residuals:                      48   BIC:                             576.6\n",
      "Df Model:                           1                                         \n",
      "Covariance Type:            nonrobust                                         \n",
      "===============================================================================\n",
      "                  coef    std err          t      P>|t|      [0.025      0.975]\n",
      "-------------------------------------------------------------------------------\n",
      "const          68.4724     30.663      2.233      0.030       6.820     130.125\n",
      "Timeindryer     8.1327      0.680     11.958      0.000       6.765       9.500\n",
      "==============================================================================\n",
      "Omnibus:                        1.159   Durbin-Watson:                   1.764\n",
      "Prob(Omnibus):                  0.560   Jarque-Bera (JB):                0.620\n",
      "Skew:                          -0.258   Prob(JB):                        0.733\n",
      "Kurtosis:                       3.176   Cond. No.                         134.\n",
      "==============================================================================\n",
      "\n",
      "Warnings:\n",
      "[1] Standard Errors assume that the covariance matrix of the errors is correctly specified.\n"
     ]
    }
   ],
   "source": [
    "#What is your intercept estimate for this model? --> in summary see const coef\n",
    "#What is your parameter estimate for this model? --> in summary see Timeindryer coef\n",
    "#What is the p-value for your dryer time estimate? --> in summary see Timeindryer P>|t| \n",
    "x = drug['Timeindryer']\n",
    "y = drug['Dissolutiontime']\n",
    "X = sm.add_constant(x)\n",
    "model = sm.OLS(y,X)\n",
    "est = model.fit()\n",
    "print(est.summary())"
   ]
  },
  {
   "cell_type": "code",
   "execution_count": 354,
   "metadata": {},
   "outputs": [
    {
     "data": {
      "text/plain": [
       "344.9842"
      ]
     },
     "execution_count": 354,
     "metadata": {},
     "output_type": "execute_result"
    }
   ],
   "source": [
    "#If you want to set dryer time to 34 seconds, what would you expect the dissolution time to be (in seconds)?\n",
    "68.4724 + 8.1327*34"
   ]
  },
  {
   "cell_type": "code",
   "execution_count": null,
   "metadata": {},
   "outputs": [],
   "source": []
  },
  {
   "cell_type": "code",
   "execution_count": null,
   "metadata": {},
   "outputs": [],
   "source": []
  }
 ],
 "metadata": {
  "kernelspec": {
   "display_name": "Python 3",
   "language": "python",
   "name": "python3"
  },
  "language_info": {
   "codemirror_mode": {
    "name": "ipython",
    "version": 3
   },
   "file_extension": ".py",
   "mimetype": "text/x-python",
   "name": "python",
   "nbconvert_exporter": "python",
   "pygments_lexer": "ipython3",
   "version": "3.7.0"
  }
 },
 "nbformat": 4,
 "nbformat_minor": 2
}
