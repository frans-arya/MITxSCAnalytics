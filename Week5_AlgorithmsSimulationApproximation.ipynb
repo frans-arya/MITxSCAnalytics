{
 "cells": [
  {
   "cell_type": "code",
   "execution_count": 1,
   "metadata": {},
   "outputs": [
    {
     "data": {
      "text/plain": [
       "'C:\\\\Users\\\\LENOVO\\\\MITx SC0 Supply Chain Analytics\\\\Module5_algorithms'"
      ]
     },
     "execution_count": 1,
     "metadata": {},
     "output_type": "execute_result"
    }
   ],
   "source": [
    "pwd"
   ]
  },
  {
   "cell_type": "code",
   "execution_count": 2,
   "metadata": {},
   "outputs": [],
   "source": [
    "import numpy as np\n",
    "import pandas as pd"
   ]
  },
  {
   "cell_type": "markdown",
   "metadata": {},
   "source": [
    "<h1>PP1 - Dijkstra’s Algorithm</h1>\n",
    "\n",
    "<img src=\"dikjstra.png\">\n",
    "\n",
    "Questions:\n",
    "\n",
    "We showed how to set up an LP formulation to solve the shortest path problem last week, and this week we showed you Dijkstra's Algorithm to find the shortest path. Develop the shortest path tree from WA to all nodes in the network above, and answer the following questions. Assume the numbers on the arcs are distances in miles\n",
    "\n",
    "What is the shortest path distance from node WA to node CH in the network shown above?\n",
    "\n",
    "What is the shortest path distance from node WA to node CO in the network shown above?\n",
    "\n",
    "What is the shortest path distance from node WA to node CI in the network shown above?\n",
    "\n",
    "What is the shortest path distance from node WA to node NV in the network shown above?\n",
    "\n",
    "What is the shortest path distance from node WA to node SL in the network shown above?"
   ]
  },
  {
   "cell_type": "code",
   "execution_count": 19,
   "metadata": {},
   "outputs": [
    {
     "name": "stdout",
     "output_type": "stream",
     "text": [
      "{'SL': {'CH': 300, 'IN': 245, 'LV': 263, 'NV': 312}, 'CH': {'SL': 300, 'IN': 201, 'CL': 362}, 'IN': {'SL': 245, 'LV': 114, 'CO': 176, 'CH': 201}, 'LV': {'SL': 263, 'IN': 114, 'LX': 86, 'NV': 175}, 'NV': {'SL': 312, 'LV': 175, 'KV': 180}, 'CL': {'CH': 362, 'CO': 142, 'CN': 251, 'MT': 201, 'HB': 332}, 'CO': {'CL': 142, 'CI': 105, 'IN': 176}, 'CI': {'CO': 105, 'IN': 112, 'CN': 204, 'LX': 95}, 'LX': {'CI': 95, 'CN': 177, 'KV': 170, 'LV': 86}, 'KV': {'NV': 180, 'GR': 299, 'LX': 170}, 'HB': {'CL': 332, 'MT': 213, 'WA': 120}, 'MT': {'HB': 213, 'WA': 209, 'CN': 157, 'CL': 201}, 'CN': {'MT': 157, 'RI': 318, 'GR': 244, 'LX': 177, 'CI': 204, 'CL': 251}, 'GR': {'CN': 244, 'RI': 205, 'KV': 299}, 'WA': {'HB': 120, 'MT': 209, 'RI': 111}, 'RI': {'WA': 111, 'CN': 318, 'GR': 205}}\n"
     ]
    }
   ],
   "source": [
    "def initial_graph() :\n",
    "    \n",
    "    return {\n",
    "            \n",
    "        'SL': {'CH':300, 'IN':245, 'LV':263, 'NV':312},\n",
    "        'CH': {'SL':300, 'IN':201, 'CL':362},\n",
    "        'IN': {'SL':245, 'LV':114, 'CO':176, 'CH':201},\n",
    "        'LV': {'SL':263, 'IN':114, 'LX':86, 'NV':175},\n",
    "        'NV': {'SL':312, 'LV':175, 'KV':180},\n",
    "        'CL': {'CH':362, 'CO':142, 'CN':251, 'MT':201, 'HB':332},\n",
    "        'CO': {'CL':142, 'CI':105, 'IN':176},\n",
    "        'CI': {'CO':105, 'IN':112, 'CN':204, 'LX':95},\n",
    "        'LX': {'CI':95, 'CN':177, 'KV':170, 'LV':86},\n",
    "        'KV': {'NV':180, 'GR':299, 'LX':170},\n",
    "        'HB': {'CL':332, 'MT':213, 'WA':120},\n",
    "        'MT': {'HB':213, 'WA':209, 'CN':157, 'CL':201},\n",
    "        'CN': {'MT':157, 'RI':318, 'GR':244, 'LX':177, 'CI':204, 'CL':251},\n",
    "        'GR': {'CN':244, 'RI':205, 'KV':299},\n",
    "        'WA': {'HB':120, 'MT':209, 'RI':111},\n",
    "        'RI': {'WA':111, 'CN':318, 'GR':205}\n",
    "            \n",
    "            \n",
    "            \n",
    "            }\n",
    "print(initial_graph())"
   ]
  },
  {
   "cell_type": "code",
   "execution_count": 20,
   "metadata": {},
   "outputs": [
    {
     "name": "stdout",
     "output_type": "stream",
     "text": [
      "WA\n",
      "RI\n",
      "HB\n",
      "MT\n",
      "GR\n",
      "CN\n",
      "CL\n",
      "LX\n",
      "CO\n",
      "CI\n",
      "KV\n",
      "LV\n",
      "IN\n",
      "CH\n",
      "NV\n",
      "SL\n",
      "The path between initial to terminal\n",
      "SL<-LV<-LX<-CN<-MT<-WA<-\n",
      "distance is  892\n"
     ]
    }
   ],
   "source": [
    "initial = 'WA'\n",
    "path = {}\n",
    "adj_node = {}\n",
    "queue = []\n",
    "graph = initial_graph()\n",
    "for node in graph:\n",
    "    path[node] = float(\"inf\")\n",
    "    adj_node[node] = None\n",
    "    queue.append(node)\n",
    "    \n",
    "path[initial] = 0\n",
    "while queue:\n",
    "    # find min distance which wasn't marked as current\n",
    "    key_min = queue[0]\n",
    "    min_val = path[key_min]\n",
    "    for n in range(1, len(queue)):\n",
    "        if path[queue[n]] < min_val:\n",
    "            key_min = queue[n]  \n",
    "            min_val = path[key_min]\n",
    "    cur = key_min\n",
    "    queue.remove(cur)\n",
    "    print(cur)\n",
    "    \n",
    "    for i in graph[cur]:\n",
    "        alternate = graph[cur][i] + path[cur]\n",
    "        if path[i] > alternate:\n",
    "            path[i] = alternate\n",
    "            adj_node[i] = cur\n",
    "            \n",
    "            \n",
    "x = 'SL' #terminal node\n",
    "print('The path between initial to terminal')\n",
    "print(x, end = '<-')\n",
    "dist = 0\n",
    "while True:\n",
    "    x_prev = x\n",
    "    x = adj_node[x_prev]\n",
    "    if x is None:\n",
    "        print(\"\")\n",
    "        print('distance is ', dist)\n",
    "        break\n",
    "    print(x, end='<-')\n",
    "    dist += graph[x_prev][x]"
   ]
  },
  {
   "cell_type": "code",
   "execution_count": null,
   "metadata": {},
   "outputs": [],
   "source": [
    "\n",
    "    "
   ]
  },
  {
   "cell_type": "code",
   "execution_count": 13,
   "metadata": {},
   "outputs": [
    {
     "data": {
      "text/plain": [
       "204"
      ]
     },
     "execution_count": 13,
     "metadata": {},
     "output_type": "execute_result"
    }
   ],
   "source": [
    "graph['CI']['CN']"
   ]
  },
  {
   "cell_type": "code",
   "execution_count": 12,
   "metadata": {},
   "outputs": [
    {
     "data": {
      "text/plain": [
       "{'SL': 'LV',\n",
       " 'CH': 'CL',\n",
       " 'IN': 'CI',\n",
       " 'LV': 'LX',\n",
       " 'NV': 'KV',\n",
       " 'CL': 'MT',\n",
       " 'CO': 'CL',\n",
       " 'CI': 'CN',\n",
       " 'LX': 'CN',\n",
       " 'KV': 'GR',\n",
       " 'HB': 'WA',\n",
       " 'MT': 'WA',\n",
       " 'CN': 'MT',\n",
       " 'GR': 'RI',\n",
       " 'WA': None,\n",
       " 'RI': 'WA'}"
      ]
     },
     "execution_count": 12,
     "metadata": {},
     "output_type": "execute_result"
    }
   ],
   "source": [
    "adj_node"
   ]
  },
  {
   "cell_type": "markdown",
   "metadata": {},
   "source": [
    "<h1>PP2 - Local routing</h1>\n",
    "\n",
    "You are routing your vehicles to deliver goods to six customers. Your DC is located where the grey box is and the customers are located where the blue circles are. The customers are identified with an ID.\n",
    "\n",
    "<img src=\"imgcw.png\" width=\"300\" height=\"400\">\n",
    "\n",
    "<img src=\"img2.png\" width=\"600\" height=\"300\">\n",
    "\n",
    "Questions:\n",
    "\n",
    "We first start by calculating the distance savings when we pair customers into a tour loop.\n",
    "\n",
    "What is the distance saving to travel from the DC to customer 1 and 6 and back to the DC versus delivering directly to each of them from the DC and back?\n",
    "\n",
    "What is the distance saving to travel from the DC to customer 2 and 4 and back to the DC versus delivering directly to each of them from the DC and back?\n",
    "\n",
    "Next, we rank the distance savings.\n",
    "\n",
    "What is the greatest savings you can get from pairing two customers in one tour? (Do not consider vehicle capacity for now)\n",
    "\n",
    "What is the smallest savings you can get from pairing two customers in one tour?\n",
    "\n",
    "Consider that each van can only carry 50 boxes per tour.\n",
    "\n",
    "How many vans do you need?\n",
    "\n",
    "Please describe the tour including customer 1.\n",
    "Please describe the tour including customer 2.\n",
    "Please describe the tour including customer 3.\n",
    "Please describe the tour including customer 4.\n",
    "Please describe the tour including customer 5.\n",
    "Please describe the tour including customer 6."
   ]
  },
  {
   "cell_type": "code",
   "execution_count": 303,
   "metadata": {},
   "outputs": [],
   "source": [
    "#code taken from https://github.com/lmarkely/scanalytics\n",
    "\n",
    "class CWSA(object):\n",
    "    '''\n",
    "    argument:\n",
    "    create an object with 'distances' attributes.\n",
    "    self.distances[(from_node,to_node)] = distance\n",
    "    output:\n",
    "    '''\n",
    "    def __init__(self):\n",
    "        self.distances = {}\n",
    "\n",
    "    def add_dist(self, from_node,to_node,distance):\n",
    "        if from_node != 'DC' and to_node != 'DC':\n",
    "            if from_node < to_node:\n",
    "                self.distances[(from_node,to_node)] = distance\n",
    "            else:\n",
    "                self.distances[(to_node,from_node)] = distance\n",
    "        elif from_node == 'DC':\n",
    "            self.distances[(to_node,from_node)] = distance\n",
    "        elif to_node == 'DC':\n",
    "            self.distances[(from_node,to_node)] = distance\n",
    "\n",
    "def CWSA_dist_matrix(cwsa):\n",
    "    '''\n",
    "    argument: cwsa object\n",
    "    output:\n",
    "    CWSA_mtx (numpy array): rows = from_node\n",
    "                            columns = to_node\n",
    "                            entries = distance (above diagonal element)\n",
    "                                      diagonal and below diagonal elements are 0\n",
    "    '''\n",
    "    from_list = []\n",
    "    dist_dict = cwsa.distances\n",
    "    for from_node,to_node in dist_dict:\n",
    "        if from_node not in from_list:\n",
    "            from_list.append(from_node)\n",
    "    from_list.sort()\n",
    "    CWSA_mtx = np.zeros((len(from_list),len(from_list)+1))\n",
    "\n",
    "    for from_node,to_node in dist_dict:\n",
    "        if to_node != 'DC':\n",
    "            CWSA_mtx[from_node-1,to_node-1] = dist_dict[(from_node,to_node)]\n",
    "        else:\n",
    "            CWSA_mtx[from_node-1,-1] = dist_dict[(from_node,to_node)]\n",
    "    return CWSA_mtx\n",
    "\n",
    "def CWSA_savings(cwsa):\n",
    "    '''\n",
    "    Given cwsa object, provide savings and distance table of\n",
    "    argument:\n",
    "    (object): cwsa object with complete distances attribute added by add_dist\n",
    "              function\n",
    "    output:\n",
    "    CWSA_dict(dataframe): 1st column   = index\n",
    "                          2nd column   = (from_node,to_node)\n",
    "                          3rd column   = distance/cost saving for these nodes\n",
    "    CWSA_mtx (dataframe): distance/cost (above diagonal element) and\n",
    "                          saving (below diagonal element) of each pair of nodes\n",
    "    '''\n",
    "    CWSA_mtx = CWSA_dist_matrix(cwsa)\n",
    "    CWSA_dict = {}\n",
    "    for i in range(np.shape(CWSA_mtx)[0]):\n",
    "        for j in range(i+1,np.shape(CWSA_mtx)[0]):\n",
    "            saving = CWSA_mtx[i,-1] + CWSA_mtx[j,-1] - CWSA_mtx[i,j]\n",
    "            CWSA_mtx[j,i] = saving\n",
    "            CWSA_dict[(i+1,j+1)] = saving\n",
    "    CWSA_list = sorted(CWSA_dict.items(),key=operator.itemgetter(1),\n",
    "                       reverse=True)\n",
    "    CWSA_savings_df = pd.DataFrame(CWSA_list)\n",
    "    CWSA_df = pd.DataFrame(CWSA_mtx)\n",
    "    return CWSA_df,CWSA_savings_df\n"
   ]
  },
  {
   "cell_type": "code",
   "execution_count": 304,
   "metadata": {},
   "outputs": [
    {
     "data": {
      "text/html": [
       "<div>\n",
       "<style scoped>\n",
       "    .dataframe tbody tr th:only-of-type {\n",
       "        vertical-align: middle;\n",
       "    }\n",
       "\n",
       "    .dataframe tbody tr th {\n",
       "        vertical-align: top;\n",
       "    }\n",
       "\n",
       "    .dataframe thead th {\n",
       "        text-align: right;\n",
       "    }\n",
       "</style>\n",
       "<table border=\"1\" class=\"dataframe\">\n",
       "  <thead>\n",
       "    <tr style=\"text-align: right;\">\n",
       "      <th></th>\n",
       "      <th>0</th>\n",
       "      <th>1</th>\n",
       "      <th>2</th>\n",
       "      <th>3</th>\n",
       "      <th>4</th>\n",
       "      <th>5</th>\n",
       "      <th>6</th>\n",
       "    </tr>\n",
       "  </thead>\n",
       "  <tbody>\n",
       "    <tr>\n",
       "      <th>0</th>\n",
       "      <td>0.0</td>\n",
       "      <td>16.0</td>\n",
       "      <td>16.3</td>\n",
       "      <td>20.0</td>\n",
       "      <td>18.7</td>\n",
       "      <td>17.9</td>\n",
       "      <td>12.1</td>\n",
       "    </tr>\n",
       "    <tr>\n",
       "      <th>1</th>\n",
       "      <td>6.7</td>\n",
       "      <td>0.0</td>\n",
       "      <td>6.5</td>\n",
       "      <td>14.9</td>\n",
       "      <td>15.8</td>\n",
       "      <td>16.4</td>\n",
       "      <td>10.6</td>\n",
       "    </tr>\n",
       "    <tr>\n",
       "      <th>2</th>\n",
       "      <td>5.2</td>\n",
       "      <td>13.5</td>\n",
       "      <td>0.0</td>\n",
       "      <td>7.9</td>\n",
       "      <td>9.8</td>\n",
       "      <td>10.4</td>\n",
       "      <td>9.4</td>\n",
       "    </tr>\n",
       "    <tr>\n",
       "      <th>3</th>\n",
       "      <td>9.3</td>\n",
       "      <td>12.9</td>\n",
       "      <td>18.7</td>\n",
       "      <td>0.0</td>\n",
       "      <td>6.4</td>\n",
       "      <td>13.4</td>\n",
       "      <td>17.2</td>\n",
       "    </tr>\n",
       "    <tr>\n",
       "      <th>4</th>\n",
       "      <td>8.8</td>\n",
       "      <td>10.2</td>\n",
       "      <td>15.0</td>\n",
       "      <td>26.2</td>\n",
       "      <td>0.0</td>\n",
       "      <td>12.1</td>\n",
       "      <td>15.4</td>\n",
       "    </tr>\n",
       "    <tr>\n",
       "      <th>5</th>\n",
       "      <td>10.9</td>\n",
       "      <td>10.9</td>\n",
       "      <td>15.7</td>\n",
       "      <td>20.5</td>\n",
       "      <td>20.0</td>\n",
       "      <td>0.0</td>\n",
       "      <td>16.7</td>\n",
       "    </tr>\n",
       "  </tbody>\n",
       "</table>\n",
       "</div>"
      ],
      "text/plain": [
       "      0     1     2     3     4     5     6\n",
       "0   0.0  16.0  16.3  20.0  18.7  17.9  12.1\n",
       "1   6.7   0.0   6.5  14.9  15.8  16.4  10.6\n",
       "2   5.2  13.5   0.0   7.9   9.8  10.4   9.4\n",
       "3   9.3  12.9  18.7   0.0   6.4  13.4  17.2\n",
       "4   8.8  10.2  15.0  26.2   0.0  12.1  15.4\n",
       "5  10.9  10.9  15.7  20.5  20.0   0.0  16.7"
      ]
     },
     "metadata": {},
     "output_type": "display_data"
    },
    {
     "data": {
      "text/html": [
       "<div>\n",
       "<style scoped>\n",
       "    .dataframe tbody tr th:only-of-type {\n",
       "        vertical-align: middle;\n",
       "    }\n",
       "\n",
       "    .dataframe tbody tr th {\n",
       "        vertical-align: top;\n",
       "    }\n",
       "\n",
       "    .dataframe thead th {\n",
       "        text-align: right;\n",
       "    }\n",
       "</style>\n",
       "<table border=\"1\" class=\"dataframe\">\n",
       "  <thead>\n",
       "    <tr style=\"text-align: right;\">\n",
       "      <th></th>\n",
       "      <th>0</th>\n",
       "      <th>1</th>\n",
       "    </tr>\n",
       "  </thead>\n",
       "  <tbody>\n",
       "    <tr>\n",
       "      <th>0</th>\n",
       "      <td>(4, 5)</td>\n",
       "      <td>26.2</td>\n",
       "    </tr>\n",
       "    <tr>\n",
       "      <th>1</th>\n",
       "      <td>(4, 6)</td>\n",
       "      <td>20.5</td>\n",
       "    </tr>\n",
       "    <tr>\n",
       "      <th>2</th>\n",
       "      <td>(5, 6)</td>\n",
       "      <td>20.0</td>\n",
       "    </tr>\n",
       "    <tr>\n",
       "      <th>3</th>\n",
       "      <td>(3, 4)</td>\n",
       "      <td>18.7</td>\n",
       "    </tr>\n",
       "    <tr>\n",
       "      <th>4</th>\n",
       "      <td>(3, 6)</td>\n",
       "      <td>15.7</td>\n",
       "    </tr>\n",
       "    <tr>\n",
       "      <th>5</th>\n",
       "      <td>(3, 5)</td>\n",
       "      <td>15.0</td>\n",
       "    </tr>\n",
       "    <tr>\n",
       "      <th>6</th>\n",
       "      <td>(2, 3)</td>\n",
       "      <td>13.5</td>\n",
       "    </tr>\n",
       "    <tr>\n",
       "      <th>7</th>\n",
       "      <td>(2, 4)</td>\n",
       "      <td>12.9</td>\n",
       "    </tr>\n",
       "    <tr>\n",
       "      <th>8</th>\n",
       "      <td>(1, 6)</td>\n",
       "      <td>10.9</td>\n",
       "    </tr>\n",
       "    <tr>\n",
       "      <th>9</th>\n",
       "      <td>(2, 6)</td>\n",
       "      <td>10.9</td>\n",
       "    </tr>\n",
       "    <tr>\n",
       "      <th>10</th>\n",
       "      <td>(2, 5)</td>\n",
       "      <td>10.2</td>\n",
       "    </tr>\n",
       "    <tr>\n",
       "      <th>11</th>\n",
       "      <td>(1, 4)</td>\n",
       "      <td>9.3</td>\n",
       "    </tr>\n",
       "    <tr>\n",
       "      <th>12</th>\n",
       "      <td>(1, 5)</td>\n",
       "      <td>8.8</td>\n",
       "    </tr>\n",
       "    <tr>\n",
       "      <th>13</th>\n",
       "      <td>(1, 2)</td>\n",
       "      <td>6.7</td>\n",
       "    </tr>\n",
       "    <tr>\n",
       "      <th>14</th>\n",
       "      <td>(1, 3)</td>\n",
       "      <td>5.2</td>\n",
       "    </tr>\n",
       "  </tbody>\n",
       "</table>\n",
       "</div>"
      ],
      "text/plain": [
       "         0     1\n",
       "0   (4, 5)  26.2\n",
       "1   (4, 6)  20.5\n",
       "2   (5, 6)  20.0\n",
       "3   (3, 4)  18.7\n",
       "4   (3, 6)  15.7\n",
       "5   (3, 5)  15.0\n",
       "6   (2, 3)  13.5\n",
       "7   (2, 4)  12.9\n",
       "8   (1, 6)  10.9\n",
       "9   (2, 6)  10.9\n",
       "10  (2, 5)  10.2\n",
       "11  (1, 4)   9.3\n",
       "12  (1, 5)   8.8\n",
       "13  (1, 2)   6.7\n",
       "14  (1, 3)   5.2"
      ]
     },
     "metadata": {},
     "output_type": "display_data"
    }
   ],
   "source": [
    "from IPython.display import display\n",
    "import operator\n",
    "cwsa = CWSA()\n",
    "cwsa.add_dist(1,2,16)\n",
    "cwsa.add_dist(1,3,16.3)\n",
    "cwsa.add_dist(1,4,20)\n",
    "cwsa.add_dist(1,5,18.7)\n",
    "cwsa.add_dist(1,6,17.9)\n",
    "cwsa.add_dist(1,'DC',12.1)\n",
    "cwsa.add_dist(2,3,6.5)\n",
    "cwsa.add_dist(2,4,14.9)\n",
    "cwsa.add_dist(2,5,15.8)\n",
    "cwsa.add_dist(2,6,16.4)\n",
    "cwsa.add_dist(2,'DC',10.6)\n",
    "cwsa.add_dist(3,4,7.9)\n",
    "cwsa.add_dist(3,5,9.8)\n",
    "cwsa.add_dist(3,6,10.4)\n",
    "cwsa.add_dist(3,'DC',9.4)\n",
    "cwsa.add_dist(4,5,6.4)\n",
    "cwsa.add_dist(4,6,13.4)\n",
    "cwsa.add_dist(4,'DC',17.2)\n",
    "cwsa.add_dist(5,6,12.1)\n",
    "cwsa.add_dist(5,'DC',15.4)\n",
    "cwsa.add_dist(6,'DC',16.7)\n",
    "\n",
    "CWSA_df, CWSA_savings_df = CWSA_savings(cwsa)\n",
    "display(CWSA_df)\n",
    "display(CWSA_savings_df)"
   ]
  },
  {
   "cell_type": "markdown",
   "metadata": {},
   "source": []
  },
  {
   "cell_type": "code",
   "execution_count": 68,
   "metadata": {},
   "outputs": [],
   "source": [
    "from scipy import stats\n",
    "import matplotlib.pyplot as plt"
   ]
  },
  {
   "cell_type": "code",
   "execution_count": 29,
   "metadata": {},
   "outputs": [],
   "source": [
    "sushi = pd.read_csv('sushidemand.csv', header = 0)"
   ]
  },
  {
   "cell_type": "code",
   "execution_count": 31,
   "metadata": {},
   "outputs": [
    {
     "data": {
      "text/plain": [
       "count    60.000000\n",
       "mean     19.766667\n",
       "std       4.907161\n",
       "min       7.000000\n",
       "25%      17.000000\n",
       "50%      20.000000\n",
       "75%      24.000000\n",
       "max      31.000000\n",
       "Name: Demand, dtype: float64"
      ]
     },
     "execution_count": 31,
     "metadata": {},
     "output_type": "execute_result"
    }
   ],
   "source": [
    "sushi.Demand.describe()"
   ]
  },
  {
   "cell_type": "code",
   "execution_count": 59,
   "metadata": {},
   "outputs": [
    {
     "data": {
      "text/plain": [
       "Power_divergenceResult(statistic=638.1390327421644, pvalue=4.1459396537430496e-98)"
      ]
     },
     "execution_count": 59,
     "metadata": {},
     "output_type": "execute_result"
    }
   ],
   "source": [
    "#Using the 60 day sample of demand for Suzie's Sushi Shack, conduct a ChiSquare Test to evaluate \n",
    "#whether it is distributed following a discrete uniform \n",
    "#distribution with a minimum of 5 and a maximum of 40. Conduct the test for demand ranging from 5 to 40.\n",
    "\n",
    "#What is the p-value for the Chi Square test?\n",
    "#Enter your answer in decimal form using three decimal places. For example, if your answer is 23.24%, \n",
    "#you should enter .232 in the box below. If your answer is less than .001, you may enter \"0\" in the box below.\n",
    "\n",
    "obs_val = np.array(sushi.Demand)\n",
    "exp_val = np.linspace(5,40,60,endpoint = True)\n",
    "stats.chisquare(obs_val, exp_val)"
   ]
  },
  {
   "cell_type": "code",
   "execution_count": 60,
   "metadata": {},
   "outputs": [],
   "source": [
    "#since the p value is 0, we reject H0 that the demand distribution is a uniform distribution between 5 and 40"
   ]
  },
  {
   "cell_type": "code",
   "execution_count": 85,
   "metadata": {},
   "outputs": [],
   "source": [
    "model = stats.norm(800,20.9/np.sqrt(40))"
   ]
  },
  {
   "cell_type": "code",
   "execution_count": 86,
   "metadata": {},
   "outputs": [
    {
     "data": {
      "text/plain": [
       "808.5120343988557"
      ]
     },
     "execution_count": 86,
     "metadata": {},
     "output_type": "execute_result"
    }
   ],
   "source": [
    "model.ppf(1-0.01/2)"
   ]
  },
  {
   "cell_type": "code",
   "execution_count": 129,
   "metadata": {},
   "outputs": [],
   "source": [
    "saleprice = 80\n",
    "cost = 25\n",
    "demandmean = 20\n",
    "demandstd = 5\n",
    "prodq = 30\n",
    "\n",
    "prodqs = range(15,41,1)\n",
    "\n",
    "profits={}\n",
    "for i in prodqs:\n",
    "    randomdemand = np.round(np.random.normal(demandmean, demandstd, 100000))\n",
    "    extraquantity = prodq - randomdemand\n",
    "    revenue = np.minimum(randomdemand, i) * 80\n",
    "    totalcost = i*cost\n",
    "    profit = revenue - totalcost\n",
    "    profits[i] = np.mean(profit)"
   ]
  },
  {
   "cell_type": "code",
   "execution_count": 105,
   "metadata": {},
   "outputs": [],
   "source": [
    "#sim = pd.DataFrame({'demand':randomdemand, 'extraquantity': extraquantity, 'revenue': revenue, \\\n",
    "#                    'totalcost':np.full(1000,totalcost),'profit': profit})"
   ]
  },
  {
   "cell_type": "code",
   "execution_count": 131,
   "metadata": {},
   "outputs": [
    {
     "data": {
      "text/plain": [
       "{15: 791.7992,\n",
       " 16: 831.9592,\n",
       " 17: 867.7896,\n",
       " 18: 897.3896,\n",
       " 19: 922.904,\n",
       " 20: 940.3712,\n",
       " 21: 953.3296,\n",
       " 22: 957.5312,\n",
       " 23: 957.22,\n",
       " 24: 950.496,\n",
       " 25: 942.4296,\n",
       " 26: 926.8664,\n",
       " 27: 910.9168,\n",
       " 28: 888.6552,\n",
       " 29: 868.7312,\n",
       " 30: 848.2224,\n",
       " 31: 823.0744,\n",
       " 32: 798.7704,\n",
       " 33: 774.4344,\n",
       " 34: 750.3648,\n",
       " 35: 726.0424,\n",
       " 36: 700.208,\n",
       " 37: 674.0584,\n",
       " 38: 651.7312,\n",
       " 39: 627.3736,\n",
       " 40: 600.4808}"
      ]
     },
     "execution_count": 131,
     "metadata": {},
     "output_type": "execute_result"
    }
   ],
   "source": [
    "#what is the optimal production quantity?\n",
    "profits"
   ]
  },
  {
   "cell_type": "code",
   "execution_count": 237,
   "metadata": {},
   "outputs": [],
   "source": [
    "#As a small restaurant owner, you are very interested in understanding the demand of your different products. \n",
    "#You have been collecting data over the past 11 weeks on the number of fish platter sales that you make each day.\n",
    "\n",
    "#You want to run a simulation and you believe that 60% of your fish platter sales for a given week show up on \n",
    "#the weekends (evenly split between Friday, Saturday and Sunday) while the remaining 40% are evenly divided across \n",
    "#the four other weekdays (Monday, Tuesday, Wednesday and Thursday).\n",
    "\n",
    "#Your recorded data over the past 11 weeks is below. Use the average demand for each day (Monday to Sunday) to \n",
    "#test your assumption about the daily distribution of fish platter sales.\n",
    "\n",
    "fish = pd.read_csv('fishsales.csv')"
   ]
  },
  {
   "cell_type": "code",
   "execution_count": 238,
   "metadata": {},
   "outputs": [
    {
     "data": {
      "text/html": [
       "<div>\n",
       "<style scoped>\n",
       "    .dataframe tbody tr th:only-of-type {\n",
       "        vertical-align: middle;\n",
       "    }\n",
       "\n",
       "    .dataframe tbody tr th {\n",
       "        vertical-align: top;\n",
       "    }\n",
       "\n",
       "    .dataframe thead th {\n",
       "        text-align: right;\n",
       "    }\n",
       "</style>\n",
       "<table border=\"1\" class=\"dataframe\">\n",
       "  <thead>\n",
       "    <tr style=\"text-align: right;\">\n",
       "      <th></th>\n",
       "      <th>Day</th>\n",
       "      <th>FishPlatterSales</th>\n",
       "    </tr>\n",
       "  </thead>\n",
       "  <tbody>\n",
       "    <tr>\n",
       "      <th>72</th>\n",
       "      <td>Wednesday</td>\n",
       "      <td>10.0</td>\n",
       "    </tr>\n",
       "    <tr>\n",
       "      <th>73</th>\n",
       "      <td>Thursday</td>\n",
       "      <td>10.0</td>\n",
       "    </tr>\n",
       "    <tr>\n",
       "      <th>74</th>\n",
       "      <td>Friday</td>\n",
       "      <td>11.0</td>\n",
       "    </tr>\n",
       "    <tr>\n",
       "      <th>75</th>\n",
       "      <td>Saturday</td>\n",
       "      <td>15.0</td>\n",
       "    </tr>\n",
       "    <tr>\n",
       "      <th>76</th>\n",
       "      <td>Sunday</td>\n",
       "      <td>9.0</td>\n",
       "    </tr>\n",
       "  </tbody>\n",
       "</table>\n",
       "</div>"
      ],
      "text/plain": [
       "          Day  FishPlatterSales\n",
       "72  Wednesday              10.0\n",
       "73   Thursday              10.0\n",
       "74     Friday              11.0\n",
       "75   Saturday              15.0\n",
       "76     Sunday               9.0"
      ]
     },
     "execution_count": 238,
     "metadata": {},
     "output_type": "execute_result"
    }
   ],
   "source": [
    "fish = fish.dropna(how=\"any\")\n",
    "fish.tail()"
   ]
  },
  {
   "cell_type": "code",
   "execution_count": 239,
   "metadata": {},
   "outputs": [
    {
     "data": {
      "text/plain": [
       "count    77.000000\n",
       "mean     13.740260\n",
       "std       3.388846\n",
       "min       9.000000\n",
       "25%      10.000000\n",
       "50%      13.000000\n",
       "75%      17.000000\n",
       "max      19.000000\n",
       "Name: FishPlatterSales, dtype: float64"
      ]
     },
     "execution_count": 239,
     "metadata": {},
     "output_type": "execute_result"
    }
   ],
   "source": [
    "#Use a Chi-Squared test to see if your assumed distribution is correct.\n",
    "\n",
    "fish['FishPlatterSales'].describe()"
   ]
  },
  {
   "cell_type": "code",
   "execution_count": 240,
   "metadata": {},
   "outputs": [
    {
     "name": "stderr",
     "output_type": "stream",
     "text": [
      "C:\\Users\\LENOVO\\Anaconda3\\lib\\site-packages\\ipykernel_launcher.py:4: SettingWithCopyWarning: \n",
      "A value is trying to be set on a copy of a slice from a DataFrame\n",
      "\n",
      "See the caveats in the documentation: http://pandas.pydata.org/pandas-docs/stable/indexing.html#indexing-view-versus-copy\n",
      "  after removing the cwd from sys.path.\n",
      "C:\\Users\\LENOVO\\Anaconda3\\lib\\site-packages\\ipykernel_launcher.py:5: SettingWithCopyWarning: \n",
      "A value is trying to be set on a copy of a slice from a DataFrame\n",
      "\n",
      "See the caveats in the documentation: http://pandas.pydata.org/pandas-docs/stable/indexing.html#indexing-view-versus-copy\n",
      "  \"\"\"\n"
     ]
    }
   ],
   "source": [
    "fish['Week'] = np.zeros((len(fish),1))\n",
    "fish['Daynum'] = np.zeros((len(fish),1))\n",
    "for i in range(len(fish)):\n",
    "    fish['Week'][i] = i//7 + 1\n",
    "    fish['Daynum'][i] = i % 7 + 1"
   ]
  },
  {
   "cell_type": "code",
   "execution_count": 255,
   "metadata": {},
   "outputs": [
    {
     "name": "stdout",
     "output_type": "stream",
     "text": [
      "Daynum\n",
      "1.0    13.090909\n",
      "2.0    14.090909\n",
      "3.0    13.818182\n",
      "4.0    13.272727\n",
      "5.0    13.363636\n",
      "6.0    14.909091\n",
      "7.0    13.636364\n",
      "Name: FishPlatterSales, dtype: float64\n"
     ]
    }
   ],
   "source": [
    "weekavg = fish.groupby('Daynum')['FishPlatterSales'].mean()\n",
    "print(weekavg)"
   ]
  },
  {
   "cell_type": "code",
   "execution_count": 256,
   "metadata": {},
   "outputs": [],
   "source": [
    "exp_val = np.zeros((len(weekavg)))"
   ]
  },
  {
   "cell_type": "code",
   "execution_count": 257,
   "metadata": {},
   "outputs": [
    {
     "name": "stdout",
     "output_type": "stream",
     "text": [
      "[13.09090909 14.09090909 13.81818182 13.27272727 13.36363636 14.90909091\n",
      " 13.63636364]\n"
     ]
    }
   ],
   "source": [
    "obs_val = np.array(weekavg)\n",
    "print(obs_val)"
   ]
  },
  {
   "cell_type": "code",
   "execution_count": 258,
   "metadata": {},
   "outputs": [
    {
     "name": "stdout",
     "output_type": "stream",
     "text": [
      "[ 9.61818182  9.61818182  9.61818182  9.61818182 19.23636364 19.23636364\n",
      " 19.23636364]\n"
     ]
    }
   ],
   "source": [
    "for i in range(len(weekavg)):\n",
    "    if i <= 3:\n",
    "        exp_val[i] = (0.4/4) * np.sum(obs_val)\n",
    "    else:\n",
    "        exp_val[i] = (0.6/3) * np.sum(obs_val)\n",
    "        \n",
    "            \n",
    "print(exp_val)"
   ]
  },
  {
   "cell_type": "code",
   "execution_count": 260,
   "metadata": {},
   "outputs": [
    {
     "data": {
      "text/plain": [
       "Power_divergenceResult(statistic=10.952998797044161, pvalue=0.08983996873059105)"
      ]
     },
     "execution_count": 260,
     "metadata": {},
     "output_type": "execute_result"
    }
   ],
   "source": [
    "#What is the P-Value of your Chi-Squared test?\n",
    "\n",
    "#Suppose that the owner wants to test if his initial hypothesis is accurate at \n",
    "#95% confidence interval. You set up the below Hypothesis test\n",
    "\n",
    "#H0:  The actual sales distribution resembles the expected distribution at the 95% confidence level\n",
    "\n",
    "#H1:  The actual sales distribution doesnot resemble the expected distribution at the 95% confidence level\n",
    "\n",
    "#alpha = 0.05/2 , reject H0 if p value is less than alpha\n",
    "\n",
    "\n",
    "stats.chisquare(obs_val, f_exp = exp_val)"
   ]
  },
  {
   "cell_type": "markdown",
   "metadata": {},
   "source": [
    "<h1>Part 2</h1>\n",
    "\n",
    "You have opened a Shrimp Shack next to Suzie’s Shrimp Shack and are trying to understand what your daily sales would be for shrimp.\n",
    "\n",
    "Unfortunately, the fisherman who provide you your shrimp are not consistent. You modeled the amount of shrimp they can provide for you each day is uniformly distributed between 500 and 1200 pounds. The demand for shrimp, from your past records, appears to be normally distributed with a mean of 900 pounds and a standard deviation of 200 pounds.\n",
    "\n",
    "You only sell the shrimp that were caught that day. That is, you cannot carry any inventory from one day to another. Also, you cannot sell shrimp that were not delivered to you by the fisherman each day.\n",
    "\n",
    "You decide to run 200 simulations of 1000 days each.\n",
    "\n",
    "<b>What is your expected sales each day under this simulation?\n",
    "\n",
    "Use the expected sales from each of your 200 simulations to create a confidence interval for the mean of those expected sales. What is the 98% confidence interval, L (Your confidence interval is mean +/- L), for this estimate?</b>"
   ]
  },
  {
   "cell_type": "code",
   "execution_count": 294,
   "metadata": {},
   "outputs": [
    {
     "name": "stdout",
     "output_type": "stream",
     "text": [
      "Expected Sales after 200 simulations:  757.630755\n"
     ]
    }
   ],
   "source": [
    "daily_sales = []\n",
    "for i in range(200):\n",
    "\n",
    "    demand = np.round(np.random.normal(900,200,(1000,1)))\n",
    "    supply = np.random.randint(500,1201,(1000,1))\n",
    "\n",
    "    extrasupply = np.maximum(supply-demand,0)\n",
    "    sales = supply - extrasupply\n",
    "    daily_sales.append(np.mean(sales))\n",
    "\n",
    "print('Expected Sales after 200 simulations: ', np.mean(daily_sales))"
   ]
  },
  {
   "cell_type": "code",
   "execution_count": 274,
   "metadata": {},
   "outputs": [
    {
     "data": {
      "image/png": "[encoded data removed]",
      "text/plain": [
       "<Figure size 432x288 with 1 Axes>"
      ]
     },
     "metadata": {
      "needs_background": "light"
     },
     "output_type": "display_data"
    }
   ],
   "source": [
    "plt.hist(daily_sales);"
   ]
  },
  {
   "cell_type": "code",
   "execution_count": 275,
   "metadata": {},
   "outputs": [
    {
     "data": {
      "text/plain": [
       "5.760401918086965"
      ]
     },
     "execution_count": 275,
     "metadata": {},
     "output_type": "execute_result"
    }
   ],
   "source": [
    "np.std(daily_sales)"
   ]
  },
  {
   "cell_type": "code",
   "execution_count": 301,
   "metadata": {},
   "outputs": [
    {
     "name": "stdout",
     "output_type": "stream",
     "text": [
      "Confidence Interval of 98% :  0.9073435576536895\n"
     ]
    }
   ],
   "source": [
    "distribution = stats.norm(np.mean(daily_sales),np.std(daily_sales)/np.sqrt(200))\n",
    "print('Confidence Interval of 98% : ' ,distribution.ppf(0.99) - np.mean(daily_sales))"
   ]
  },
  {
   "cell_type": "code",
   "execution_count": 302,
   "metadata": {},
   "outputs": [
    {
     "data": {
      "text/plain": [
       "0.907343557653642"
      ]
     },
     "execution_count": 302,
     "metadata": {},
     "output_type": "execute_result"
    }
   ],
   "source": [
    "#The L value of a confidence interval is given as:\n",
    "#L=ConfidenceLevel∗StandardDeviationn/squareroot of sample\n",
    "#confidence level is simply the 2 tailed z value with alpha of 0.02 \n",
    "stats.norm.ppf(0.99)*np.std(daily_sales)/np.sqrt(200)"
   ]
  },
  {
   "cell_type": "markdown",
   "metadata": {},
   "source": [
    "<h1>Problem 1 - Local routing II</h1>\n",
    "\n",
    "You are routing your vehicles to deliver goods to seven customers. The customers are identified with an ID.\n",
    "\n",
    "These are the distances between the customer locations and the distribution centers in miles.\n",
    "\n",
    "<img src=\"moduletest.png\">\n",
    "\n",
    "Consider that each of your trucks can carry, at most, 100 boxes per tour. Use the Savings algorithm to design the routes.\n",
    "\n",
    "Tip: Remember that the Savings algorithm is a heuristic algorithm. This means that the solution provided by the Savings algorithm will not necessarily be the optimal solution to the problem.\n",
    "\n",
    "Important: Write the sequence of customers with a dash between the ID numbers (do not use spaces and do not include “DC”). For example, if the route goes from DC to 5 to 2 to 6 to DC, write 5-2-6 or 6-2-5 (both are considered correct). In the above example, 2-5-6 or 2-6-5 would be considered wrong!\n",
    "\n",
    "How many tours do you need?"
   ]
  },
  {
   "cell_type": "code",
   "execution_count": 310,
   "metadata": {},
   "outputs": [
    {
     "data": {
      "text/html": [
       "<div>\n",
       "<style scoped>\n",
       "    .dataframe tbody tr th:only-of-type {\n",
       "        vertical-align: middle;\n",
       "    }\n",
       "\n",
       "    .dataframe tbody tr th {\n",
       "        vertical-align: top;\n",
       "    }\n",
       "\n",
       "    .dataframe thead th {\n",
       "        text-align: right;\n",
       "    }\n",
       "</style>\n",
       "<table border=\"1\" class=\"dataframe\">\n",
       "  <thead>\n",
       "    <tr style=\"text-align: right;\">\n",
       "      <th></th>\n",
       "      <th>0</th>\n",
       "      <th>1</th>\n",
       "      <th>2</th>\n",
       "      <th>3</th>\n",
       "      <th>4</th>\n",
       "      <th>5</th>\n",
       "      <th>6</th>\n",
       "      <th>7</th>\n",
       "    </tr>\n",
       "  </thead>\n",
       "  <tbody>\n",
       "    <tr>\n",
       "      <th>0</th>\n",
       "      <td>0.0</td>\n",
       "      <td>16.3</td>\n",
       "      <td>16.5</td>\n",
       "      <td>20.0</td>\n",
       "      <td>19.6</td>\n",
       "      <td>17.9</td>\n",
       "      <td>9.3</td>\n",
       "      <td>12.7</td>\n",
       "    </tr>\n",
       "    <tr>\n",
       "      <th>1</th>\n",
       "      <td>7.9</td>\n",
       "      <td>0.0</td>\n",
       "      <td>7.2</td>\n",
       "      <td>14.9</td>\n",
       "      <td>16.6</td>\n",
       "      <td>16.6</td>\n",
       "      <td>12.7</td>\n",
       "      <td>11.5</td>\n",
       "    </tr>\n",
       "    <tr>\n",
       "      <th>2</th>\n",
       "      <td>6.0</td>\n",
       "      <td>14.1</td>\n",
       "      <td>0.0</td>\n",
       "      <td>8.9</td>\n",
       "      <td>10.1</td>\n",
       "      <td>11.0</td>\n",
       "      <td>10.8</td>\n",
       "      <td>9.8</td>\n",
       "    </tr>\n",
       "    <tr>\n",
       "      <th>3</th>\n",
       "      <td>10.2</td>\n",
       "      <td>14.1</td>\n",
       "      <td>18.4</td>\n",
       "      <td>0.0</td>\n",
       "      <td>7.3</td>\n",
       "      <td>13.4</td>\n",
       "      <td>19.1</td>\n",
       "      <td>17.5</td>\n",
       "    </tr>\n",
       "    <tr>\n",
       "      <th>4</th>\n",
       "      <td>9.2</td>\n",
       "      <td>11.0</td>\n",
       "      <td>15.8</td>\n",
       "      <td>26.3</td>\n",
       "      <td>0.0</td>\n",
       "      <td>16.4</td>\n",
       "      <td>0.0</td>\n",
       "      <td>16.1</td>\n",
       "    </tr>\n",
       "    <tr>\n",
       "      <th>5</th>\n",
       "      <td>12.2</td>\n",
       "      <td>12.3</td>\n",
       "      <td>16.2</td>\n",
       "      <td>21.5</td>\n",
       "      <td>17.1</td>\n",
       "      <td>0.0</td>\n",
       "      <td>9.4</td>\n",
       "      <td>17.4</td>\n",
       "    </tr>\n",
       "    <tr>\n",
       "      <th>6</th>\n",
       "      <td>7.0</td>\n",
       "      <td>2.4</td>\n",
       "      <td>2.6</td>\n",
       "      <td>2.0</td>\n",
       "      <td>19.7</td>\n",
       "      <td>11.6</td>\n",
       "      <td>0.0</td>\n",
       "      <td>3.6</td>\n",
       "    </tr>\n",
       "  </tbody>\n",
       "</table>\n",
       "</div>"
      ],
      "text/plain": [
       "      0     1     2     3     4     5     6     7\n",
       "0   0.0  16.3  16.5  20.0  19.6  17.9   9.3  12.7\n",
       "1   7.9   0.0   7.2  14.9  16.6  16.6  12.7  11.5\n",
       "2   6.0  14.1   0.0   8.9  10.1  11.0  10.8   9.8\n",
       "3  10.2  14.1  18.4   0.0   7.3  13.4  19.1  17.5\n",
       "4   9.2  11.0  15.8  26.3   0.0  16.4   0.0  16.1\n",
       "5  12.2  12.3  16.2  21.5  17.1   0.0   9.4  17.4\n",
       "6   7.0   2.4   2.6   2.0  19.7  11.6   0.0   3.6"
      ]
     },
     "metadata": {},
     "output_type": "display_data"
    },
    {
     "data": {
      "text/html": [
       "<div>\n",
       "<style scoped>\n",
       "    .dataframe tbody tr th:only-of-type {\n",
       "        vertical-align: middle;\n",
       "    }\n",
       "\n",
       "    .dataframe tbody tr th {\n",
       "        vertical-align: top;\n",
       "    }\n",
       "\n",
       "    .dataframe thead th {\n",
       "        text-align: right;\n",
       "    }\n",
       "</style>\n",
       "<table border=\"1\" class=\"dataframe\">\n",
       "  <thead>\n",
       "    <tr style=\"text-align: right;\">\n",
       "      <th></th>\n",
       "      <th>0</th>\n",
       "      <th>1</th>\n",
       "    </tr>\n",
       "  </thead>\n",
       "  <tbody>\n",
       "    <tr>\n",
       "      <th>0</th>\n",
       "      <td>(4, 5)</td>\n",
       "      <td>26.3</td>\n",
       "    </tr>\n",
       "    <tr>\n",
       "      <th>1</th>\n",
       "      <td>(4, 6)</td>\n",
       "      <td>21.5</td>\n",
       "    </tr>\n",
       "    <tr>\n",
       "      <th>2</th>\n",
       "      <td>(5, 7)</td>\n",
       "      <td>19.7</td>\n",
       "    </tr>\n",
       "    <tr>\n",
       "      <th>3</th>\n",
       "      <td>(3, 4)</td>\n",
       "      <td>18.4</td>\n",
       "    </tr>\n",
       "    <tr>\n",
       "      <th>4</th>\n",
       "      <td>(5, 6)</td>\n",
       "      <td>17.1</td>\n",
       "    </tr>\n",
       "    <tr>\n",
       "      <th>5</th>\n",
       "      <td>(3, 6)</td>\n",
       "      <td>16.2</td>\n",
       "    </tr>\n",
       "    <tr>\n",
       "      <th>6</th>\n",
       "      <td>(3, 5)</td>\n",
       "      <td>15.8</td>\n",
       "    </tr>\n",
       "    <tr>\n",
       "      <th>7</th>\n",
       "      <td>(2, 3)</td>\n",
       "      <td>14.1</td>\n",
       "    </tr>\n",
       "    <tr>\n",
       "      <th>8</th>\n",
       "      <td>(2, 4)</td>\n",
       "      <td>14.1</td>\n",
       "    </tr>\n",
       "    <tr>\n",
       "      <th>9</th>\n",
       "      <td>(2, 6)</td>\n",
       "      <td>12.3</td>\n",
       "    </tr>\n",
       "    <tr>\n",
       "      <th>10</th>\n",
       "      <td>(1, 6)</td>\n",
       "      <td>12.2</td>\n",
       "    </tr>\n",
       "    <tr>\n",
       "      <th>11</th>\n",
       "      <td>(6, 7)</td>\n",
       "      <td>11.6</td>\n",
       "    </tr>\n",
       "    <tr>\n",
       "      <th>12</th>\n",
       "      <td>(2, 5)</td>\n",
       "      <td>11.0</td>\n",
       "    </tr>\n",
       "    <tr>\n",
       "      <th>13</th>\n",
       "      <td>(1, 4)</td>\n",
       "      <td>10.2</td>\n",
       "    </tr>\n",
       "    <tr>\n",
       "      <th>14</th>\n",
       "      <td>(1, 5)</td>\n",
       "      <td>9.2</td>\n",
       "    </tr>\n",
       "    <tr>\n",
       "      <th>15</th>\n",
       "      <td>(1, 2)</td>\n",
       "      <td>7.9</td>\n",
       "    </tr>\n",
       "    <tr>\n",
       "      <th>16</th>\n",
       "      <td>(1, 7)</td>\n",
       "      <td>7.0</td>\n",
       "    </tr>\n",
       "    <tr>\n",
       "      <th>17</th>\n",
       "      <td>(1, 3)</td>\n",
       "      <td>6.0</td>\n",
       "    </tr>\n",
       "    <tr>\n",
       "      <th>18</th>\n",
       "      <td>(3, 7)</td>\n",
       "      <td>2.6</td>\n",
       "    </tr>\n",
       "    <tr>\n",
       "      <th>19</th>\n",
       "      <td>(2, 7)</td>\n",
       "      <td>2.4</td>\n",
       "    </tr>\n",
       "    <tr>\n",
       "      <th>20</th>\n",
       "      <td>(4, 7)</td>\n",
       "      <td>2.0</td>\n",
       "    </tr>\n",
       "  </tbody>\n",
       "</table>\n",
       "</div>"
      ],
      "text/plain": [
       "         0     1\n",
       "0   (4, 5)  26.3\n",
       "1   (4, 6)  21.5\n",
       "2   (5, 7)  19.7\n",
       "3   (3, 4)  18.4\n",
       "4   (5, 6)  17.1\n",
       "5   (3, 6)  16.2\n",
       "6   (3, 5)  15.8\n",
       "7   (2, 3)  14.1\n",
       "8   (2, 4)  14.1\n",
       "9   (2, 6)  12.3\n",
       "10  (1, 6)  12.2\n",
       "11  (6, 7)  11.6\n",
       "12  (2, 5)  11.0\n",
       "13  (1, 4)  10.2\n",
       "14  (1, 5)   9.2\n",
       "15  (1, 2)   7.9\n",
       "16  (1, 7)   7.0\n",
       "17  (1, 3)   6.0\n",
       "18  (3, 7)   2.6\n",
       "19  (2, 7)   2.4\n",
       "20  (4, 7)   2.0"
      ]
     },
     "metadata": {},
     "output_type": "display_data"
    }
   ],
   "source": [
    "cwsa2 = CWSA()\n",
    "cwsa2.add_dist(1,2,16.3)\n",
    "cwsa2.add_dist(1,3,16.5)\n",
    "cwsa2.add_dist(1,4,20)\n",
    "cwsa2.add_dist(1,5,19.6)\n",
    "cwsa2.add_dist(1,6,17.9)\n",
    "cwsa2.add_dist(1,7,9.3)\n",
    "cwsa2.add_dist(1,'DC',12.7)\n",
    "cwsa2.add_dist(2,3,7.2)\n",
    "cwsa2.add_dist(2,4,14.9)\n",
    "cwsa2.add_dist(2,5,16.6)\n",
    "cwsa2.add_dist(2,6,16.6)\n",
    "cwsa2.add_dist(2,7,12.7)\n",
    "cwsa2.add_dist(2,'DC',11.5)\n",
    "cwsa2.add_dist(3,4,8.9)\n",
    "cwsa2.add_dist(3,5,10.1)\n",
    "cwsa2.add_dist(3,6,11)\n",
    "cwsa2.add_dist(3,7,10.8)\n",
    "cwsa2.add_dist(3,'DC',9.8)\n",
    "cwsa2.add_dist(4,5,7.3)\n",
    "cwsa2.add_dist(4,6,13.4)\n",
    "cwsa2.add_dist(4,7,19.1)\n",
    "cwsa2.add_dist(4,'DC',17.5)\n",
    "cwsa2.add_dist(5,6,12.9)\n",
    "cwsa2.add_dist(5,6,16.4)\n",
    "cwsa2.add_dist(5,'DC',16.1)\n",
    "cwsa2.add_dist(6,7,9.4)\n",
    "cwsa2.add_dist(6,'DC',17.4)\n",
    "cwsa2.add_dist(7,'DC',3.6)\n",
    "\n",
    "CWSA_df2, CWSA_savings_df2 = CWSA_savings(cwsa2)\n",
    "display(CWSA_df2)\n",
    "display(CWSA_savings_df2)"
   ]
  },
  {
   "cell_type": "markdown",
   "metadata": {},
   "source": [
    "Solution:\n",
    "\n",
    "We look down the rank of savings to identify customers that can be paired. We only pair the customers in a loop if the sum of the demand does not exceed 100. First we pair customers 4 and 5. Then we pair 4 and 6. This makes a sequence 5-4-6. We cannot pair customers 3 and 4 because customer 4 is linked to customers 5 and 6, but customer 3 can be paired with customer 6. So we pair 3 to 6, and the first truck is full with 100 boxes. The first tour is DC-3-6-4-5-DC OR DC-5-4-6-3-DC.\n",
    "\n",
    "We continue to move down the table, and find that we can pair customers 1 and 2, making tour DC-1-2-DC or DC-2-1-DC. Next we pair 1 and 7, so the tour is either DC-7-1-2-DC or DC-2-1-7-DC. The second truck carries 72 boxes.\n",
    "\n",
    "<img src=\"solutionmoduletest.png\">\n"
   ]
  },
  {
   "cell_type": "markdown",
   "metadata": {},
   "source": [
    "<h1>Daily Top Chef</h1>\n",
    "\n",
    "You have been moved into the transportation department for Daily Top Chef. They distribute their food from each kitchen to their assigned regions using a hub and spoke network. Each night, one large truck hauls all of the pouches for a single region to a parking lot in the middle of that region. The pouches are then transferred from the large truck to several vans in the parking lot. These vans then deliver the pouches to the customers in the early morning hours. This is sometimes called \"pooled\" operations, where a larger capacity vehicle brings in a large quantity of items that are \"cross-docked\" into smaller local vehicles for final delivery.\n",
    "\n",
    "You are trying to understand the cost of delivering to the Oklahoma City region north of your kitchen in Dallas, Texas. You understand the following:\n",
    "\n",
    "Each evening one truck leaves the kitchen in Dallas and drives to the parking lot (the pool point) in the center of the Oklahoma City region with all of the pouches for that entire region.\n",
    "The truck has a capacity to hold 500 pouches of food and truck transportation cost is $675 (the transportation cost includes loading and unloading costs of the truck).\n",
    "In Oklahoma City, there is a fleet of vans that perform the local delivery.\n",
    "The capacity of each van is 50 pouches.\n",
    "The cost to load each van at the pool point is $10.\n",
    "The cost to stop at a customer location is $2 per stop.\n",
    "The cost to unload and deliver a single pouch at a destination is $0.50 per pouch.\n",
    "The cost for driving the local vans is $2.25 per mile.\n",
    "Your daily demand for food pouches is 325 pouches and each customer only gets one pouch.\n",
    "The Oklahoma City Region is estimated to be essentially a square of 20 by 20 miles with the pool point exactly in the middle.\n",
    "\n",
    "<b>What is the total daily transportation cost per pouch for the Oklahoma City region? Include all costs from leaving the kitchen to delivery to the customer. Enter your answer in dollars rounded to the second decimal. Do NOT include the $ symbol in your answer.</b>\n",
    "\n",
    "Formula for total cost minus truck haul cost:\n",
    "\n",
    "<img src = \"equation.png\" width = \"700\" height = \"500\">"
   ]
  },
  {
   "cell_type": "markdown",
   "metadata": {},
   "source": [
    "<h1>Problem 3 - Lobster Jack</h1>\n",
    "\n",
    "The restaurant owner Lobster Jack wants to find out what the peak demand periods are, during the hours of operation, in order to be better prepared to serve his customers. He thinks that, on average, 60% of the daily customers come between 6:00pm and 8:59pm (equally distributed in that time) and the remaining 40% of customers come at other times during the operating hours (again equally distributed). He wants to verify if that is true or not, so he asked his staff to write down during one week the number of customers that come into the restaurant at a given hour each day. His staff gave him the following data: (see lobster_raw_data below)\n",
    "\n",
    "Help the manager figure out if his instincts are correct or not. Use a Chi-Squared test to see if the observed distribution is similar to the expected. Use the average demand for a given time as your observed value."
   ]
  },
  {
   "cell_type": "code",
   "execution_count": 319,
   "metadata": {},
   "outputs": [],
   "source": [
    "lobster_raw_data = pd.read_csv(\"lobstersales.csv\", index_col = 0)"
   ]
  },
  {
   "cell_type": "code",
   "execution_count": 320,
   "metadata": {},
   "outputs": [
    {
     "data": {
      "text/html": [
       "<div>\n",
       "<style scoped>\n",
       "    .dataframe tbody tr th:only-of-type {\n",
       "        vertical-align: middle;\n",
       "    }\n",
       "\n",
       "    .dataframe tbody tr th {\n",
       "        vertical-align: top;\n",
       "    }\n",
       "\n",
       "    .dataframe thead th {\n",
       "        text-align: right;\n",
       "    }\n",
       "</style>\n",
       "<table border=\"1\" class=\"dataframe\">\n",
       "  <thead>\n",
       "    <tr style=\"text-align: right;\">\n",
       "      <th></th>\n",
       "      <th>Day 1</th>\n",
       "      <th>Day 2</th>\n",
       "      <th>Day 3</th>\n",
       "      <th>Day 4</th>\n",
       "      <th>Day 5</th>\n",
       "      <th>Day 6</th>\n",
       "      <th>Day 7</th>\n",
       "    </tr>\n",
       "    <tr>\n",
       "      <th>Time</th>\n",
       "      <th></th>\n",
       "      <th></th>\n",
       "      <th></th>\n",
       "      <th></th>\n",
       "      <th></th>\n",
       "      <th></th>\n",
       "      <th></th>\n",
       "    </tr>\n",
       "  </thead>\n",
       "  <tbody>\n",
       "    <tr>\n",
       "      <th>5:00pm-5:59pm</th>\n",
       "      <td>15</td>\n",
       "      <td>19</td>\n",
       "      <td>21</td>\n",
       "      <td>20</td>\n",
       "      <td>12</td>\n",
       "      <td>15</td>\n",
       "      <td>15</td>\n",
       "    </tr>\n",
       "    <tr>\n",
       "      <th>6:00pm-6:59pm</th>\n",
       "      <td>30</td>\n",
       "      <td>23</td>\n",
       "      <td>24</td>\n",
       "      <td>25</td>\n",
       "      <td>28</td>\n",
       "      <td>29</td>\n",
       "      <td>26</td>\n",
       "    </tr>\n",
       "    <tr>\n",
       "      <th>7:00pm-7:59pm</th>\n",
       "      <td>36</td>\n",
       "      <td>29</td>\n",
       "      <td>39</td>\n",
       "      <td>35</td>\n",
       "      <td>39</td>\n",
       "      <td>30</td>\n",
       "      <td>32</td>\n",
       "    </tr>\n",
       "    <tr>\n",
       "      <th>8:00pm-8:59pm</th>\n",
       "      <td>29</td>\n",
       "      <td>33</td>\n",
       "      <td>23</td>\n",
       "      <td>29</td>\n",
       "      <td>24</td>\n",
       "      <td>32</td>\n",
       "      <td>27</td>\n",
       "    </tr>\n",
       "    <tr>\n",
       "      <th>9:00pm-9:59pm</th>\n",
       "      <td>21</td>\n",
       "      <td>20</td>\n",
       "      <td>12</td>\n",
       "      <td>19</td>\n",
       "      <td>18</td>\n",
       "      <td>14</td>\n",
       "      <td>20</td>\n",
       "    </tr>\n",
       "    <tr>\n",
       "      <th>10:00pm-10:59pm</th>\n",
       "      <td>12</td>\n",
       "      <td>12</td>\n",
       "      <td>15</td>\n",
       "      <td>12</td>\n",
       "      <td>10</td>\n",
       "      <td>15</td>\n",
       "      <td>14</td>\n",
       "    </tr>\n",
       "    <tr>\n",
       "      <th>11:00pm-11:59pm</th>\n",
       "      <td>8</td>\n",
       "      <td>7</td>\n",
       "      <td>9</td>\n",
       "      <td>10</td>\n",
       "      <td>12</td>\n",
       "      <td>12</td>\n",
       "      <td>9</td>\n",
       "    </tr>\n",
       "  </tbody>\n",
       "</table>\n",
       "</div>"
      ],
      "text/plain": [
       "                 Day 1  Day 2  Day 3  Day 4  Day 5  Day 6  Day 7\n",
       "Time                                                            \n",
       "5:00pm-5:59pm       15     19     21     20     12     15     15\n",
       "6:00pm-6:59pm       30     23     24     25     28     29     26\n",
       "7:00pm-7:59pm       36     29     39     35     39     30     32\n",
       "8:00pm-8:59pm       29     33     23     29     24     32     27\n",
       "9:00pm-9:59pm       21     20     12     19     18     14     20\n",
       "10:00pm-10:59pm     12     12     15     12     10     15     14\n",
       "11:00pm-11:59pm      8      7      9     10     12     12      9"
      ]
     },
     "execution_count": 320,
     "metadata": {},
     "output_type": "execute_result"
    }
   ],
   "source": [
    "lobster_raw_data"
   ]
  },
  {
   "cell_type": "code",
   "execution_count": 328,
   "metadata": {},
   "outputs": [
    {
     "name": "stdout",
     "output_type": "stream",
     "text": [
      "Time\n",
      "5:00pm-5:59pm      16.714286\n",
      "6:00pm-6:59pm      26.428571\n",
      "7:00pm-7:59pm      34.285714\n",
      "8:00pm-8:59pm      28.142857\n",
      "9:00pm-9:59pm      17.714286\n",
      "10:00pm-10:59pm    12.857143\n",
      "11:00pm-11:59pm     9.571429\n",
      "dtype: float64\n"
     ]
    }
   ],
   "source": [
    "avg_sales = lobster_raw_data.mean(axis = 1)\n",
    "print(avg_sales)"
   ]
  },
  {
   "cell_type": "code",
   "execution_count": 325,
   "metadata": {},
   "outputs": [
    {
     "name": "stdout",
     "output_type": "stream",
     "text": [
      "[14.571428571428573, 29.142857142857142, 29.142857142857142, 29.142857142857142, 14.571428571428573, 14.571428571428573, 14.571428571428573]\n"
     ]
    }
   ],
   "source": [
    "exp_sales = []\n",
    "\n",
    "for i in range(len(avg_sales)):\n",
    "    if i > 0 and i <4:\n",
    "        exp_sales.append((0.6/3)*np.sum(avg_sales))\n",
    "    else:\n",
    "        exp_sales.append((0.4/4)*np.sum(avg_sales))\n",
    "        \n",
    "print(exp_sales)"
   ]
  },
  {
   "cell_type": "code",
   "execution_count": 326,
   "metadata": {},
   "outputs": [],
   "source": [
    "obs_val = np.array(avg_sales)\n",
    "exp_val = np.array(exp_sales)"
   ]
  },
  {
   "cell_type": "code",
   "execution_count": 336,
   "metadata": {},
   "outputs": [],
   "source": [
    "stat, pval = stats.chisquare(obs_val, exp_val)"
   ]
  },
  {
   "cell_type": "code",
   "execution_count": 343,
   "metadata": {},
   "outputs": [
    {
     "name": "stdout",
     "output_type": "stream",
     "text": [
      "pvalue =  0.6624637500133668\n"
     ]
    }
   ],
   "source": [
    "alpha = 0.2\n",
    "\n",
    "print(\"pvalue = \", pval )"
   ]
  },
  {
   "cell_type": "markdown",
   "metadata": {},
   "source": [
    "With the chi-squared value you can identify the corresponding p-value which is = 0.6625.\n",
    "\n",
    "The p-value is greater than what is required for a confidence level of 80% (alpha=0.20). Therefore we cannot reject the null hypothesis."
   ]
  },
  {
   "cell_type": "markdown",
   "metadata": {},
   "source": [
    "<h1>Part 2</h1>\n",
    "\n",
    "The owner now wants you to help him analyze his sales data. The restaurant is famous for its Lobo lobster roll. You were given some information based on which you deduced that the demand for the lobster roll was normally distributed with a mean of 220 and standard deviation of 50. You also know that the lobster supplier can provide lobster at a rate that mimics a uniform distribution between 170 and 300. One Lobster is used per roll and the lobsters need to be fresh (i.e. the restaurant can only use the lobsters that are delivered that day).\n",
    "\n",
    "You decide to run 200 simulations of 1000 days each.\n",
    "\n",
    "Calculate the expected sales of Lobster roll per day based on your simulation results."
   ]
  },
  {
   "cell_type": "code",
   "execution_count": 368,
   "metadata": {},
   "outputs": [
    {
     "name": "stdout",
     "output_type": "stream",
     "text": [
      "Expected value after 200 simulations:  201.59243000000004\n"
     ]
    }
   ],
   "source": [
    "sim = 200\n",
    "sim_sales = []\n",
    "\n",
    "for i in range(sim):\n",
    "\n",
    "    lobs_demand = np.round(np.random.normal(220,50, (1000,1)))\n",
    "    lobs_supply = np.random.randint(170,301,(1000,1))\n",
    "\n",
    "    extra_supply = np.maximum((lobs_supply - lobs_demand), 0)\n",
    "    sales = lobs_supply - extra_supply\n",
    "    sim_sales.append(np.mean(sales))\n",
    "\n",
    "print(\"Expected value after 200 simulations: \", np.mean(sim_sales))"
   ]
  },
  {
   "cell_type": "code",
   "execution_count": 367,
   "metadata": {},
   "outputs": [
    {
     "name": "stdout",
     "output_type": "stream",
     "text": [
      "Confidence Interval of 95% :  0.16919187669168423\n"
     ]
    }
   ],
   "source": [
    "#Use the expected sales from each of your 200 simulations to create a confidence interval \n",
    "#for the average expected sales. What is the 95% confidence interval, \n",
    "#L (Your confidence interval is mean +/- L), for this estimate?\n",
    "\n",
    "distribution = stats.norm(np.mean(sim_sales),np.std(sim_sales)/np.sqrt(sim))\n",
    "print('Confidence Interval of 95% : ' ,distribution.ppf(0.975) - np.mean(sim_sales))"
   ]
  },
  {
   "cell_type": "markdown",
   "metadata": {},
   "source": [
    "Once you have your overall simulation set up, you should use the standard deviation of your 200 expected values (one from each 1000 day simulation) to calculate your standard error term for the mean. You would then use a two tailed Z-distribution with an alpha of .05 to generate your Z-value. Multiplying your Z-value by your standard error should give you an L value close to .18. Please note that your answer may vary depending upon the random numbers generated in your simulation"
   ]
  },
  {
   "cell_type": "code",
   "execution_count": null,
   "metadata": {},
   "outputs": [],
   "source": []
  }
 ],
 "metadata": {
  "kernelspec": {
   "display_name": "Python 3",
   "language": "python",
   "name": "python3"
  },
  "language_info": {
   "codemirror_mode": {
    "name": "ipython",
    "version": 3
   },
   "file_extension": ".py",
   "mimetype": "text/x-python",
   "name": "python",
   "nbconvert_exporter": "python",
   "pygments_lexer": "ipython3",
   "version": "3.7.0"
  }
 },
 "nbformat": 4,
 "nbformat_minor": 2
}
